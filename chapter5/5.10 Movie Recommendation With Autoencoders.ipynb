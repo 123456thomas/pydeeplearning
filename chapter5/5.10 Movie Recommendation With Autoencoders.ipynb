{
 "cells": [
  {
   "cell_type": "markdown",
   "metadata": {},
   "source": [
    "## 读取MovieLens 数据"
   ]
  },
  {
   "cell_type": "code",
   "execution_count": 6,
   "metadata": {},
   "outputs": [
    {
     "data": {
      "text/html": [
       "<div>\n",
       "<style scoped>\n",
       "    .dataframe tbody tr th:only-of-type {\n",
       "        vertical-align: middle;\n",
       "    }\n",
       "\n",
       "    .dataframe tbody tr th {\n",
       "        vertical-align: top;\n",
       "    }\n",
       "\n",
       "    .dataframe thead th {\n",
       "        text-align: right;\n",
       "    }\n",
       "</style>\n",
       "<table border=\"1\" class=\"dataframe\">\n",
       "  <thead>\n",
       "    <tr style=\"text-align: right;\">\n",
       "      <th></th>\n",
       "      <th>userid</th>\n",
       "      <th>itemid</th>\n",
       "      <th>rating</th>\n",
       "      <th>tm</th>\n",
       "    </tr>\n",
       "  </thead>\n",
       "  <tbody>\n",
       "    <tr>\n",
       "      <th>0</th>\n",
       "      <td>1</td>\n",
       "      <td>1</td>\n",
       "      <td>5</td>\n",
       "      <td>874965758</td>\n",
       "    </tr>\n",
       "    <tr>\n",
       "      <th>1</th>\n",
       "      <td>1</td>\n",
       "      <td>2</td>\n",
       "      <td>3</td>\n",
       "      <td>876893171</td>\n",
       "    </tr>\n",
       "    <tr>\n",
       "      <th>2</th>\n",
       "      <td>1</td>\n",
       "      <td>3</td>\n",
       "      <td>4</td>\n",
       "      <td>878542960</td>\n",
       "    </tr>\n",
       "    <tr>\n",
       "      <th>3</th>\n",
       "      <td>1</td>\n",
       "      <td>4</td>\n",
       "      <td>3</td>\n",
       "      <td>876893119</td>\n",
       "    </tr>\n",
       "    <tr>\n",
       "      <th>4</th>\n",
       "      <td>1</td>\n",
       "      <td>5</td>\n",
       "      <td>3</td>\n",
       "      <td>889751712</td>\n",
       "    </tr>\n",
       "  </tbody>\n",
       "</table>\n",
       "</div>"
      ],
      "text/plain": [
       "   userid  itemid  rating         tm\n",
       "0       1       1       5  874965758\n",
       "1       1       2       3  876893171\n",
       "2       1       3       4  878542960\n",
       "3       1       4       3  876893119\n",
       "4       1       5       3  889751712"
      ]
     },
     "execution_count": 6,
     "metadata": {},
     "output_type": "execute_result"
    }
   ],
   "source": [
    "import pandas\n",
    "training_set = pandas.read_csv('../ml-100k/u1.base', sep = '\\t', names = ['userid', 'itemid', 'rating', 'tm'])\n",
    "training_set.head()"
   ]
  },
  {
   "cell_type": "code",
   "execution_count": 7,
   "metadata": {},
   "outputs": [
    {
     "data": {
      "text/html": [
       "<div>\n",
       "<style scoped>\n",
       "    .dataframe tbody tr th:only-of-type {\n",
       "        vertical-align: middle;\n",
       "    }\n",
       "\n",
       "    .dataframe tbody tr th {\n",
       "        vertical-align: top;\n",
       "    }\n",
       "\n",
       "    .dataframe thead th {\n",
       "        text-align: right;\n",
       "    }\n",
       "</style>\n",
       "<table border=\"1\" class=\"dataframe\">\n",
       "  <thead>\n",
       "    <tr style=\"text-align: right;\">\n",
       "      <th></th>\n",
       "      <th>userid</th>\n",
       "      <th>itemid</th>\n",
       "      <th>rating</th>\n",
       "      <th>tm</th>\n",
       "    </tr>\n",
       "  </thead>\n",
       "  <tbody>\n",
       "    <tr>\n",
       "      <th>0</th>\n",
       "      <td>1</td>\n",
       "      <td>6</td>\n",
       "      <td>5</td>\n",
       "      <td>887431973</td>\n",
       "    </tr>\n",
       "    <tr>\n",
       "      <th>1</th>\n",
       "      <td>1</td>\n",
       "      <td>10</td>\n",
       "      <td>3</td>\n",
       "      <td>875693118</td>\n",
       "    </tr>\n",
       "    <tr>\n",
       "      <th>2</th>\n",
       "      <td>1</td>\n",
       "      <td>12</td>\n",
       "      <td>5</td>\n",
       "      <td>878542960</td>\n",
       "    </tr>\n",
       "    <tr>\n",
       "      <th>3</th>\n",
       "      <td>1</td>\n",
       "      <td>14</td>\n",
       "      <td>5</td>\n",
       "      <td>874965706</td>\n",
       "    </tr>\n",
       "    <tr>\n",
       "      <th>4</th>\n",
       "      <td>1</td>\n",
       "      <td>17</td>\n",
       "      <td>3</td>\n",
       "      <td>875073198</td>\n",
       "    </tr>\n",
       "  </tbody>\n",
       "</table>\n",
       "</div>"
      ],
      "text/plain": [
       "   userid  itemid  rating         tm\n",
       "0       1       6       5  887431973\n",
       "1       1      10       3  875693118\n",
       "2       1      12       5  878542960\n",
       "3       1      14       5  874965706\n",
       "4       1      17       3  875073198"
      ]
     },
     "execution_count": 7,
     "metadata": {},
     "output_type": "execute_result"
    }
   ],
   "source": [
    "import pandas\n",
    "test_set = pandas.read_csv('../ml-100k/u1.test', sep = '\\t', names = ['userid', 'itemid', 'rating', 'tm'])\n",
    "test_set.head()"
   ]
  },
  {
   "cell_type": "markdown",
   "metadata": {},
   "source": [
    "## 计算电影与使用者数量"
   ]
  },
  {
   "cell_type": "code",
   "execution_count": 14,
   "metadata": {},
   "outputs": [
    {
     "data": {
      "text/plain": [
       "1682"
      ]
     },
     "execution_count": 14,
     "metadata": {},
     "output_type": "execute_result"
    }
   ],
   "source": [
    "n_movies = max(max(training_set.itemid.tolist()), max(test_set.itemid.tolist()))\n",
    "n_movies"
   ]
  },
  {
   "cell_type": "code",
   "execution_count": 15,
   "metadata": {},
   "outputs": [
    {
     "data": {
      "text/plain": [
       "943"
      ]
     },
     "execution_count": 15,
     "metadata": {},
     "output_type": "execute_result"
    }
   ],
   "source": [
    "n_users= max(max(training_set.userid.tolist()), max(test_set.userid.tolist()))\n",
    "n_users"
   ]
  },
  {
   "cell_type": "markdown",
   "metadata": {},
   "source": [
    "## 建立训练数据集矩阵"
   ]
  },
  {
   "cell_type": "code",
   "execution_count": 59,
   "metadata": {},
   "outputs": [],
   "source": [
    "import numpy as np\n",
    "training_m = np.zeros((n_users, n_movies))\n",
    "for rec in training_set.iterrows():\n",
    "    training_m[rec[1].userid - 1 , rec[1].itemid - 1] = 1"
   ]
  },
  {
   "cell_type": "code",
   "execution_count": 60,
   "metadata": {},
   "outputs": [
    {
     "data": {
      "text/plain": [
       "(943, 1682)"
      ]
     },
     "execution_count": 60,
     "metadata": {},
     "output_type": "execute_result"
    }
   ],
   "source": [
    "training_m.shape"
   ]
  },
  {
   "cell_type": "markdown",
   "metadata": {},
   "source": [
    "## 建立测试数据集矩阵"
   ]
  },
  {
   "cell_type": "code",
   "execution_count": 61,
   "metadata": {},
   "outputs": [],
   "source": [
    "import numpy as np\n",
    "test_m = np.zeros((n_users, n_movies))\n",
    "for rec in test_set.iterrows():\n",
    "    test_m[rec[1].userid - 1 , rec[1].itemid - 1] = 1"
   ]
  },
  {
   "cell_type": "code",
   "execution_count": 63,
   "metadata": {},
   "outputs": [
    {
     "data": {
      "text/plain": [
       "(943, 1682)"
      ]
     },
     "execution_count": 63,
     "metadata": {},
     "output_type": "execute_result"
    }
   ],
   "source": [
    "test_m.shape"
   ]
  },
  {
   "cell_type": "markdown",
   "metadata": {},
   "source": [
    "## 建立Autoencoders"
   ]
  },
  {
   "cell_type": "code",
   "execution_count": 65,
   "metadata": {},
   "outputs": [],
   "source": [
    "from keras.layers import Input, Dense\n",
    "from keras.models import Model\n",
    "\n",
    "encoding_dim = 50  \n",
    "input_data = Input(shape=(n_users,))\n",
    "encoded = Dense(encoding_dim, activation='softmax')(input_data)\n",
    "decoded = Dense(n_users)(encoded)\n",
    "\n",
    "autoencoder = Model(input_data, decoded)\n",
    "autoencoder.compile(optimizer='adam', loss='mean_absolute_error')"
   ]
  },
  {
   "cell_type": "markdown",
   "metadata": {},
   "source": [
    "## 训练Autoencoders"
   ]
  },
  {
   "cell_type": "code",
   "execution_count": 66,
   "metadata": {},
   "outputs": [
    {
     "name": "stdout",
     "output_type": "stream",
     "text": [
      "Train on 1682 samples, validate on 1682 samples\n",
      "Epoch 1/200\n",
      "1682/1682 [==============================] - 0s 228us/step - loss: 0.0518 - val_loss: 0.0132\n",
      "Epoch 2/200\n",
      "1682/1682 [==============================] - 0s 120us/step - loss: 0.0511 - val_loss: 0.0131\n",
      "Epoch 3/200\n",
      "1682/1682 [==============================] - 0s 118us/step - loss: 0.0510 - val_loss: 0.0130\n",
      "Epoch 4/200\n",
      "1682/1682 [==============================] - 0s 119us/step - loss: 0.0509 - val_loss: 0.0130\n",
      "Epoch 5/200\n",
      "1682/1682 [==============================] - 0s 118us/step - loss: 0.0508 - val_loss: 0.0129\n",
      "Epoch 6/200\n",
      "1682/1682 [==============================] - 0s 121us/step - loss: 0.0507 - val_loss: 0.0129\n",
      "Epoch 7/200\n",
      "1682/1682 [==============================] - 0s 119us/step - loss: 0.0507 - val_loss: 0.0129\n",
      "Epoch 8/200\n",
      "1682/1682 [==============================] - 0s 118us/step - loss: 0.0507 - val_loss: 0.0129\n",
      "Epoch 9/200\n",
      "1682/1682 [==============================] - 0s 120us/step - loss: 0.0506 - val_loss: 0.0129\n",
      "Epoch 10/200\n",
      "1682/1682 [==============================] - 0s 140us/step - loss: 0.0506 - val_loss: 0.0128\n",
      "Epoch 11/200\n",
      "1682/1682 [==============================] - 0s 120us/step - loss: 0.0506 - val_loss: 0.0128\n",
      "Epoch 12/200\n",
      "1682/1682 [==============================] - 0s 135us/step - loss: 0.0506 - val_loss: 0.0128\n",
      "Epoch 13/200\n",
      "1682/1682 [==============================] - 0s 123us/step - loss: 0.0506 - val_loss: 0.0128\n",
      "Epoch 14/200\n",
      "1682/1682 [==============================] - 0s 137us/step - loss: 0.0506 - val_loss: 0.0128\n",
      "Epoch 15/200\n",
      "1682/1682 [==============================] - 0s 127us/step - loss: 0.0506 - val_loss: 0.0128\n",
      "Epoch 16/200\n",
      "1682/1682 [==============================] - 0s 122us/step - loss: 0.0506 - val_loss: 0.0128\n",
      "Epoch 17/200\n",
      "1682/1682 [==============================] - 0s 121us/step - loss: 0.0506 - val_loss: 0.0128\n",
      "Epoch 18/200\n",
      "1682/1682 [==============================] - 0s 128us/step - loss: 0.0506 - val_loss: 0.0128\n",
      "Epoch 19/200\n",
      "1682/1682 [==============================] - 0s 128us/step - loss: 0.0506 - val_loss: 0.0128\n",
      "Epoch 20/200\n",
      "1682/1682 [==============================] - 0s 120us/step - loss: 0.0506 - val_loss: 0.0128\n",
      "Epoch 21/200\n",
      "1682/1682 [==============================] - 0s 129us/step - loss: 0.0506 - val_loss: 0.0128\n",
      "Epoch 22/200\n",
      "1682/1682 [==============================] - 0s 121us/step - loss: 0.0506 - val_loss: 0.0128\n",
      "Epoch 23/200\n",
      "1682/1682 [==============================] - 0s 121us/step - loss: 0.0506 - val_loss: 0.0128\n",
      "Epoch 24/200\n",
      "1682/1682 [==============================] - 0s 122us/step - loss: 0.0506 - val_loss: 0.0128\n",
      "Epoch 25/200\n",
      "1682/1682 [==============================] - 0s 131us/step - loss: 0.0506 - val_loss: 0.0128\n",
      "Epoch 26/200\n",
      "1682/1682 [==============================] - 0s 132us/step - loss: 0.0506 - val_loss: 0.0128\n",
      "Epoch 27/200\n",
      "1682/1682 [==============================] - 0s 120us/step - loss: 0.0506 - val_loss: 0.0128\n",
      "Epoch 28/200\n",
      "1682/1682 [==============================] - 0s 119us/step - loss: 0.0506 - val_loss: 0.0128\n",
      "Epoch 29/200\n",
      "1682/1682 [==============================] - 0s 119us/step - loss: 0.0506 - val_loss: 0.0128\n",
      "Epoch 30/200\n",
      "1682/1682 [==============================] - 0s 120us/step - loss: 0.0506 - val_loss: 0.0128\n",
      "Epoch 31/200\n",
      "1682/1682 [==============================] - 0s 122us/step - loss: 0.0506 - val_loss: 0.0128\n",
      "Epoch 32/200\n",
      "1682/1682 [==============================] - 0s 121us/step - loss: 0.0506 - val_loss: 0.0128\n",
      "Epoch 33/200\n",
      "1682/1682 [==============================] - 0s 122us/step - loss: 0.0506 - val_loss: 0.0128\n",
      "Epoch 34/200\n",
      "1682/1682 [==============================] - 0s 129us/step - loss: 0.0506 - val_loss: 0.0128\n",
      "Epoch 35/200\n",
      "1682/1682 [==============================] - 0s 126us/step - loss: 0.0506 - val_loss: 0.0128\n",
      "Epoch 36/200\n",
      "1682/1682 [==============================] - 0s 123us/step - loss: 0.0506 - val_loss: 0.0128\n",
      "Epoch 37/200\n",
      "1682/1682 [==============================] - 0s 122us/step - loss: 0.0506 - val_loss: 0.0128\n",
      "Epoch 38/200\n",
      "1682/1682 [==============================] - 0s 120us/step - loss: 0.0506 - val_loss: 0.0128\n",
      "Epoch 39/200\n",
      "1682/1682 [==============================] - ETA: 0s - loss: 0.050 - 0s 120us/step - loss: 0.0506 - val_loss: 0.0128\n",
      "Epoch 40/200\n",
      "1682/1682 [==============================] - 0s 121us/step - loss: 0.0506 - val_loss: 0.0128\n",
      "Epoch 41/200\n",
      "1682/1682 [==============================] - 0s 125us/step - loss: 0.0505 - val_loss: 0.0128\n",
      "Epoch 42/200\n",
      "1682/1682 [==============================] - 0s 121us/step - loss: 0.0505 - val_loss: 0.0128\n",
      "Epoch 43/200\n",
      "1682/1682 [==============================] - 0s 128us/step - loss: 0.0505 - val_loss: 0.0129\n",
      "Epoch 44/200\n",
      "1682/1682 [==============================] - 0s 120us/step - loss: 0.0504 - val_loss: 0.0129\n",
      "Epoch 45/200\n",
      "1682/1682 [==============================] - 0s 124us/step - loss: 0.0501 - val_loss: 0.0129\n",
      "Epoch 46/200\n",
      "1682/1682 [==============================] - 0s 124us/step - loss: 0.0499 - val_loss: 0.0129\n",
      "Epoch 47/200\n",
      "1682/1682 [==============================] - 0s 123us/step - loss: 0.0496 - val_loss: 0.0130\n",
      "Epoch 48/200\n",
      "1682/1682 [==============================] - 0s 122us/step - loss: 0.0495 - val_loss: 0.0130\n",
      "Epoch 49/200\n",
      "1682/1682 [==============================] - 0s 127us/step - loss: 0.0493 - val_loss: 0.0130\n",
      "Epoch 50/200\n",
      "1682/1682 [==============================] - 0s 130us/step - loss: 0.0491 - val_loss: 0.0130\n",
      "Epoch 51/200\n",
      "1682/1682 [==============================] - 0s 121us/step - loss: 0.0490 - val_loss: 0.0130\n",
      "Epoch 52/200\n",
      "1682/1682 [==============================] - 0s 123us/step - loss: 0.0488 - val_loss: 0.0130\n",
      "Epoch 53/200\n",
      "1682/1682 [==============================] - 0s 128us/step - loss: 0.0488 - val_loss: 0.0130\n",
      "Epoch 54/200\n",
      "1682/1682 [==============================] - 0s 119us/step - loss: 0.0487 - val_loss: 0.0130\n",
      "Epoch 55/200\n",
      "1682/1682 [==============================] - 0s 117us/step - loss: 0.0486 - val_loss: 0.0130\n",
      "Epoch 56/200\n",
      "1682/1682 [==============================] - 0s 116us/step - loss: 0.0486 - val_loss: 0.0131\n",
      "Epoch 57/200\n",
      "1682/1682 [==============================] - 0s 116us/step - loss: 0.0485 - val_loss: 0.0130\n",
      "Epoch 58/200\n",
      "1682/1682 [==============================] - 0s 129us/step - loss: 0.0485 - val_loss: 0.0131\n",
      "Epoch 59/200\n",
      "1682/1682 [==============================] - 0s 121us/step - loss: 0.0484 - val_loss: 0.0131\n",
      "Epoch 60/200\n",
      "1682/1682 [==============================] - 0s 120us/step - loss: 0.0484 - val_loss: 0.0131\n",
      "Epoch 61/200\n",
      "1682/1682 [==============================] - 0s 137us/step - loss: 0.0484 - val_loss: 0.0131\n",
      "Epoch 62/200\n",
      "1682/1682 [==============================] - 0s 135us/step - loss: 0.0483 - val_loss: 0.0131\n",
      "Epoch 63/200\n",
      "1682/1682 [==============================] - 0s 127us/step - loss: 0.0483 - val_loss: 0.0131\n",
      "Epoch 64/200\n",
      "1682/1682 [==============================] - 0s 121us/step - loss: 0.0483 - val_loss: 0.0131\n",
      "Epoch 65/200\n",
      "1682/1682 [==============================] - 0s 123us/step - loss: 0.0483 - val_loss: 0.0131\n",
      "Epoch 66/200\n",
      "1682/1682 [==============================] - 0s 122us/step - loss: 0.0482 - val_loss: 0.0131\n",
      "Epoch 67/200\n",
      "1682/1682 [==============================] - 0s 120us/step - loss: 0.0482 - val_loss: 0.0131\n",
      "Epoch 68/200\n",
      "1682/1682 [==============================] - 0s 120us/step - loss: 0.0482 - val_loss: 0.0131\n",
      "Epoch 69/200\n",
      "1682/1682 [==============================] - 0s 124us/step - loss: 0.0482 - val_loss: 0.0131\n",
      "Epoch 70/200\n",
      "1682/1682 [==============================] - 0s 130us/step - loss: 0.0481 - val_loss: 0.0131\n",
      "Epoch 71/200\n",
      "1682/1682 [==============================] - 0s 137us/step - loss: 0.0481 - val_loss: 0.0131\n",
      "Epoch 72/200\n",
      "1682/1682 [==============================] - 0s 122us/step - loss: 0.0481 - val_loss: 0.0131\n",
      "Epoch 73/200\n",
      "1682/1682 [==============================] - 0s 121us/step - loss: 0.0481 - val_loss: 0.0131\n",
      "Epoch 74/200\n",
      "1682/1682 [==============================] - 0s 128us/step - loss: 0.0481 - val_loss: 0.0131\n",
      "Epoch 75/200\n",
      "1682/1682 [==============================] - 0s 123us/step - loss: 0.0481 - val_loss: 0.0131\n",
      "Epoch 76/200\n",
      "1682/1682 [==============================] - 0s 120us/step - loss: 0.0481 - val_loss: 0.0131\n",
      "Epoch 77/200\n"
     ]
    },
    {
     "name": "stdout",
     "output_type": "stream",
     "text": [
      "1682/1682 [==============================] - 0s 127us/step - loss: 0.0481 - val_loss: 0.0131\n",
      "Epoch 78/200\n",
      "1682/1682 [==============================] - 0s 130us/step - loss: 0.0480 - val_loss: 0.0131\n",
      "Epoch 79/200\n",
      "1682/1682 [==============================] - 0s 119us/step - loss: 0.0480 - val_loss: 0.0131\n",
      "Epoch 80/200\n",
      "1682/1682 [==============================] - 0s 117us/step - loss: 0.0480 - val_loss: 0.0131\n",
      "Epoch 81/200\n",
      "1682/1682 [==============================] - 0s 123us/step - loss: 0.0480 - val_loss: 0.0132\n",
      "Epoch 82/200\n",
      "1682/1682 [==============================] - 0s 116us/step - loss: 0.0480 - val_loss: 0.0131\n",
      "Epoch 83/200\n",
      "1682/1682 [==============================] - 0s 117us/step - loss: 0.0480 - val_loss: 0.0132\n",
      "Epoch 84/200\n",
      "1682/1682 [==============================] - 0s 119us/step - loss: 0.0480 - val_loss: 0.0132\n",
      "Epoch 85/200\n",
      "1682/1682 [==============================] - 0s 124us/step - loss: 0.0480 - val_loss: 0.0132\n",
      "Epoch 86/200\n",
      "1682/1682 [==============================] - 0s 118us/step - loss: 0.0480 - val_loss: 0.0132\n",
      "Epoch 87/200\n",
      "1682/1682 [==============================] - 0s 118us/step - loss: 0.0480 - val_loss: 0.0132\n",
      "Epoch 88/200\n",
      "1682/1682 [==============================] - 0s 121us/step - loss: 0.0480 - val_loss: 0.0132\n",
      "Epoch 89/200\n",
      "1682/1682 [==============================] - 0s 117us/step - loss: 0.0479 - val_loss: 0.0132\n",
      "Epoch 90/200\n",
      "1682/1682 [==============================] - 0s 118us/step - loss: 0.0479 - val_loss: 0.0132\n",
      "Epoch 91/200\n",
      "1682/1682 [==============================] - 0s 123us/step - loss: 0.0479 - val_loss: 0.0132\n",
      "Epoch 92/200\n",
      "1682/1682 [==============================] - 0s 118us/step - loss: 0.0479 - val_loss: 0.0132\n",
      "Epoch 93/200\n",
      "1682/1682 [==============================] - 0s 122us/step - loss: 0.0479 - val_loss: 0.0132\n",
      "Epoch 94/200\n",
      "1682/1682 [==============================] - 0s 120us/step - loss: 0.0479 - val_loss: 0.0132\n",
      "Epoch 95/200\n",
      "1682/1682 [==============================] - 0s 124us/step - loss: 0.0479 - val_loss: 0.0132\n",
      "Epoch 96/200\n",
      "1682/1682 [==============================] - 0s 133us/step - loss: 0.0479 - val_loss: 0.0132\n",
      "Epoch 97/200\n",
      "1682/1682 [==============================] - 0s 118us/step - loss: 0.0479 - val_loss: 0.0132\n",
      "Epoch 98/200\n",
      "1682/1682 [==============================] - 0s 127us/step - loss: 0.0479 - val_loss: 0.0132\n",
      "Epoch 99/200\n",
      "1682/1682 [==============================] - 0s 122us/step - loss: 0.0479 - val_loss: 0.0132\n",
      "Epoch 100/200\n",
      "1682/1682 [==============================] - 0s 122us/step - loss: 0.0479 - val_loss: 0.0132\n",
      "Epoch 101/200\n",
      "1682/1682 [==============================] - 0s 124us/step - loss: 0.0479 - val_loss: 0.0132\n",
      "Epoch 102/200\n",
      "1682/1682 [==============================] - 0s 122us/step - loss: 0.0479 - val_loss: 0.0132\n",
      "Epoch 103/200\n",
      "1682/1682 [==============================] - 0s 122us/step - loss: 0.0479 - val_loss: 0.0132\n",
      "Epoch 104/200\n",
      "1682/1682 [==============================] - 0s 131us/step - loss: 0.0479 - val_loss: 0.0132\n",
      "Epoch 105/200\n",
      "1682/1682 [==============================] - 0s 132us/step - loss: 0.0479 - val_loss: 0.0132\n",
      "Epoch 106/200\n",
      "1682/1682 [==============================] - 0s 131us/step - loss: 0.0479 - val_loss: 0.0132\n",
      "Epoch 107/200\n",
      "1682/1682 [==============================] - 0s 132us/step - loss: 0.0479 - val_loss: 0.0132\n",
      "Epoch 108/200\n",
      "1682/1682 [==============================] - 0s 139us/step - loss: 0.0478 - val_loss: 0.0132\n",
      "Epoch 109/200\n",
      "1682/1682 [==============================] - 0s 137us/step - loss: 0.0478 - val_loss: 0.0132\n",
      "Epoch 110/200\n",
      "1682/1682 [==============================] - 0s 125us/step - loss: 0.0478 - val_loss: 0.0132\n",
      "Epoch 111/200\n",
      "1682/1682 [==============================] - 0s 129us/step - loss: 0.0478 - val_loss: 0.0132\n",
      "Epoch 112/200\n",
      "1682/1682 [==============================] - 0s 132us/step - loss: 0.0478 - val_loss: 0.0132\n",
      "Epoch 113/200\n",
      "1682/1682 [==============================] - 0s 131us/step - loss: 0.0478 - val_loss: 0.0133\n",
      "Epoch 114/200\n",
      "1682/1682 [==============================] - 0s 123us/step - loss: 0.0478 - val_loss: 0.0132\n",
      "Epoch 115/200\n",
      "1682/1682 [==============================] - 0s 122us/step - loss: 0.0478 - val_loss: 0.0132\n",
      "Epoch 116/200\n",
      "1682/1682 [==============================] - 0s 129us/step - loss: 0.0478 - val_loss: 0.0132\n",
      "Epoch 117/200\n",
      "1682/1682 [==============================] - 0s 121us/step - loss: 0.0478 - val_loss: 0.0132\n",
      "Epoch 118/200\n",
      "1682/1682 [==============================] - 0s 123us/step - loss: 0.0478 - val_loss: 0.0133\n",
      "Epoch 119/200\n",
      "1682/1682 [==============================] - 0s 136us/step - loss: 0.0478 - val_loss: 0.0133\n",
      "Epoch 120/200\n",
      "1682/1682 [==============================] - 0s 139us/step - loss: 0.0478 - val_loss: 0.0132\n",
      "Epoch 121/200\n",
      "1682/1682 [==============================] - 0s 143us/step - loss: 0.0478 - val_loss: 0.0133\n",
      "Epoch 122/200\n",
      "1682/1682 [==============================] - 0s 145us/step - loss: 0.0478 - val_loss: 0.0133\n",
      "Epoch 123/200\n",
      "1682/1682 [==============================] - 0s 141us/step - loss: 0.0478 - val_loss: 0.0133\n",
      "Epoch 124/200\n",
      "1682/1682 [==============================] - 0s 133us/step - loss: 0.0478 - val_loss: 0.0133\n",
      "Epoch 125/200\n",
      "1682/1682 [==============================] - 0s 128us/step - loss: 0.0478 - val_loss: 0.0133\n",
      "Epoch 126/200\n",
      "1682/1682 [==============================] - 0s 135us/step - loss: 0.0478 - val_loss: 0.0133\n",
      "Epoch 127/200\n",
      "1682/1682 [==============================] - 0s 135us/step - loss: 0.0478 - val_loss: 0.0133\n",
      "Epoch 128/200\n",
      "1682/1682 [==============================] - 0s 138us/step - loss: 0.0478 - val_loss: 0.0133\n",
      "Epoch 129/200\n",
      "1682/1682 [==============================] - 0s 128us/step - loss: 0.0478 - val_loss: 0.0133\n",
      "Epoch 130/200\n",
      "1682/1682 [==============================] - 0s 126us/step - loss: 0.0478 - val_loss: 0.0133\n",
      "Epoch 131/200\n",
      "1682/1682 [==============================] - 0s 130us/step - loss: 0.0478 - val_loss: 0.0133\n",
      "Epoch 132/200\n",
      "1682/1682 [==============================] - 0s 134us/step - loss: 0.0478 - val_loss: 0.0133\n",
      "Epoch 133/200\n",
      "1682/1682 [==============================] - 0s 132us/step - loss: 0.0478 - val_loss: 0.0133\n",
      "Epoch 134/200\n",
      "1682/1682 [==============================] - 0s 131us/step - loss: 0.0478 - val_loss: 0.0133\n",
      "Epoch 135/200\n",
      "1682/1682 [==============================] - 0s 131us/step - loss: 0.0478 - val_loss: 0.0133\n",
      "Epoch 136/200\n",
      "1682/1682 [==============================] - 0s 124us/step - loss: 0.0478 - val_loss: 0.0133\n",
      "Epoch 137/200\n",
      "1682/1682 [==============================] - 0s 128us/step - loss: 0.0477 - val_loss: 0.0133\n",
      "Epoch 138/200\n",
      "1682/1682 [==============================] - 0s 134us/step - loss: 0.0477 - val_loss: 0.0133\n",
      "Epoch 139/200\n",
      "1682/1682 [==============================] - 0s 125us/step - loss: 0.0478 - val_loss: 0.0133\n",
      "Epoch 140/200\n",
      "1682/1682 [==============================] - 0s 147us/step - loss: 0.0477 - val_loss: 0.0133\n",
      "Epoch 141/200\n",
      "1682/1682 [==============================] - 0s 138us/step - loss: 0.0477 - val_loss: 0.0133\n",
      "Epoch 142/200\n",
      "1682/1682 [==============================] - 0s 132us/step - loss: 0.0477 - val_loss: 0.0133\n",
      "Epoch 143/200\n",
      "1682/1682 [==============================] - 0s 129us/step - loss: 0.0477 - val_loss: 0.0133\n",
      "Epoch 144/200\n",
      "1682/1682 [==============================] - 0s 135us/step - loss: 0.0477 - val_loss: 0.0133\n",
      "Epoch 145/200\n",
      "1682/1682 [==============================] - 0s 140us/step - loss: 0.0477 - val_loss: 0.0133\n",
      "Epoch 146/200\n",
      "1682/1682 [==============================] - 0s 136us/step - loss: 0.0477 - val_loss: 0.0133\n",
      "Epoch 147/200\n",
      "1682/1682 [==============================] - 0s 128us/step - loss: 0.0477 - val_loss: 0.0133\n",
      "Epoch 148/200\n",
      "1682/1682 [==============================] - 0s 132us/step - loss: 0.0477 - val_loss: 0.0133\n",
      "Epoch 149/200\n",
      "1682/1682 [==============================] - 0s 132us/step - loss: 0.0477 - val_loss: 0.0133\n",
      "Epoch 150/200\n",
      "1682/1682 [==============================] - 0s 137us/step - loss: 0.0477 - val_loss: 0.0133\n",
      "Epoch 151/200\n",
      "1682/1682 [==============================] - 0s 147us/step - loss: 0.0477 - val_loss: 0.0133\n",
      "Epoch 152/200\n",
      "1682/1682 [==============================] - 0s 134us/step - loss: 0.0477 - val_loss: 0.0133\n",
      "Epoch 153/200\n",
      "1682/1682 [==============================] - 0s 131us/step - loss: 0.0477 - val_loss: 0.0133\n"
     ]
    },
    {
     "name": "stdout",
     "output_type": "stream",
     "text": [
      "Epoch 154/200\n",
      "1682/1682 [==============================] - 0s 125us/step - loss: 0.0477 - val_loss: 0.0133\n",
      "Epoch 155/200\n",
      "1682/1682 [==============================] - 0s 124us/step - loss: 0.0477 - val_loss: 0.0133\n",
      "Epoch 156/200\n",
      "1682/1682 [==============================] - 0s 124us/step - loss: 0.0477 - val_loss: 0.0133\n",
      "Epoch 157/200\n",
      "1682/1682 [==============================] - 0s 126us/step - loss: 0.0477 - val_loss: 0.0133\n",
      "Epoch 158/200\n",
      "1682/1682 [==============================] - 0s 124us/step - loss: 0.0477 - val_loss: 0.0134\n",
      "Epoch 159/200\n",
      "1682/1682 [==============================] - 0s 129us/step - loss: 0.0477 - val_loss: 0.0133\n",
      "Epoch 160/200\n",
      "1682/1682 [==============================] - 0s 125us/step - loss: 0.0477 - val_loss: 0.0133\n",
      "Epoch 161/200\n",
      "1682/1682 [==============================] - 0s 130us/step - loss: 0.0477 - val_loss: 0.0134\n",
      "Epoch 162/200\n",
      "1682/1682 [==============================] - 0s 124us/step - loss: 0.0477 - val_loss: 0.0134\n",
      "Epoch 163/200\n",
      "1682/1682 [==============================] - 0s 136us/step - loss: 0.0476 - val_loss: 0.0134\n",
      "Epoch 164/200\n",
      "1682/1682 [==============================] - 0s 124us/step - loss: 0.0476 - val_loss: 0.0134\n",
      "Epoch 165/200\n",
      "1682/1682 [==============================] - 0s 122us/step - loss: 0.0476 - val_loss: 0.0134\n",
      "Epoch 166/200\n",
      "1682/1682 [==============================] - 0s 121us/step - loss: 0.0476 - val_loss: 0.0134\n",
      "Epoch 167/200\n",
      "1682/1682 [==============================] - 0s 120us/step - loss: 0.0476 - val_loss: 0.0134\n",
      "Epoch 168/200\n",
      "1682/1682 [==============================] - 0s 128us/step - loss: 0.0476 - val_loss: 0.0134\n",
      "Epoch 169/200\n",
      "1682/1682 [==============================] - 0s 136us/step - loss: 0.0476 - val_loss: 0.0134\n",
      "Epoch 170/200\n",
      "1682/1682 [==============================] - 0s 146us/step - loss: 0.0476 - val_loss: 0.0134\n",
      "Epoch 171/200\n",
      "1682/1682 [==============================] - 0s 127us/step - loss: 0.0475 - val_loss: 0.0134\n",
      "Epoch 172/200\n",
      "1682/1682 [==============================] - 0s 121us/step - loss: 0.0475 - val_loss: 0.0135\n",
      "Epoch 173/200\n",
      "1682/1682 [==============================] - 0s 122us/step - loss: 0.0475 - val_loss: 0.0135\n",
      "Epoch 174/200\n",
      "1682/1682 [==============================] - 0s 138us/step - loss: 0.0475 - val_loss: 0.0135\n",
      "Epoch 175/200\n",
      "1682/1682 [==============================] - 0s 196us/step - loss: 0.0475 - val_loss: 0.0135\n",
      "Epoch 176/200\n",
      "1682/1682 [==============================] - 0s 154us/step - loss: 0.0474 - val_loss: 0.0135\n",
      "Epoch 177/200\n",
      "1682/1682 [==============================] - 0s 125us/step - loss: 0.0474 - val_loss: 0.0135\n",
      "Epoch 178/200\n",
      "1682/1682 [==============================] - 0s 131us/step - loss: 0.0474 - val_loss: 0.0135\n",
      "Epoch 179/200\n",
      "1682/1682 [==============================] - 0s 140us/step - loss: 0.0474 - val_loss: 0.0135\n",
      "Epoch 180/200\n",
      "1682/1682 [==============================] - 0s 132us/step - loss: 0.0474 - val_loss: 0.0135\n",
      "Epoch 181/200\n",
      "1682/1682 [==============================] - 0s 130us/step - loss: 0.0474 - val_loss: 0.0135\n",
      "Epoch 182/200\n",
      "1682/1682 [==============================] - 0s 129us/step - loss: 0.0474 - val_loss: 0.0135\n",
      "Epoch 183/200\n",
      "1682/1682 [==============================] - 0s 129us/step - loss: 0.0474 - val_loss: 0.0135\n",
      "Epoch 184/200\n",
      "1682/1682 [==============================] - 0s 129us/step - loss: 0.0474 - val_loss: 0.0135\n",
      "Epoch 185/200\n",
      "1682/1682 [==============================] - 0s 130us/step - loss: 0.0474 - val_loss: 0.0135\n",
      "Epoch 186/200\n",
      "1682/1682 [==============================] - 0s 128us/step - loss: 0.0474 - val_loss: 0.0135\n",
      "Epoch 187/200\n",
      "1682/1682 [==============================] - 0s 132us/step - loss: 0.0474 - val_loss: 0.0135\n",
      "Epoch 188/200\n",
      "1682/1682 [==============================] - 0s 135us/step - loss: 0.0473 - val_loss: 0.0135\n",
      "Epoch 189/200\n",
      "1682/1682 [==============================] - 0s 134us/step - loss: 0.0473 - val_loss: 0.0135\n",
      "Epoch 190/200\n",
      "1682/1682 [==============================] - 0s 132us/step - loss: 0.0473 - val_loss: 0.0135\n",
      "Epoch 191/200\n",
      "1682/1682 [==============================] - 0s 135us/step - loss: 0.0473 - val_loss: 0.0135\n",
      "Epoch 192/200\n",
      "1682/1682 [==============================] - 0s 133us/step - loss: 0.0473 - val_loss: 0.0135\n",
      "Epoch 193/200\n",
      "1682/1682 [==============================] - 0s 136us/step - loss: 0.0473 - val_loss: 0.0135\n",
      "Epoch 194/200\n",
      "1682/1682 [==============================] - 0s 131us/step - loss: 0.0473 - val_loss: 0.0135\n",
      "Epoch 195/200\n",
      "1682/1682 [==============================] - 0s 136us/step - loss: 0.0473 - val_loss: 0.0135\n",
      "Epoch 196/200\n",
      "1682/1682 [==============================] - 0s 133us/step - loss: 0.0473 - val_loss: 0.0135\n",
      "Epoch 197/200\n",
      "1682/1682 [==============================] - 0s 134us/step - loss: 0.0473 - val_loss: 0.0135\n",
      "Epoch 198/200\n",
      "1682/1682 [==============================] - 0s 136us/step - loss: 0.0473 - val_loss: 0.0135\n",
      "Epoch 199/200\n",
      "1682/1682 [==============================] - 0s 136us/step - loss: 0.0473 - val_loss: 0.0135\n",
      "Epoch 200/200\n",
      "1682/1682 [==============================] - 0s 131us/step - loss: 0.0473 - val_loss: 0.0135\n"
     ]
    },
    {
     "data": {
      "text/plain": [
       "<keras.callbacks.History at 0x11f5041d0>"
      ]
     },
     "execution_count": 66,
     "metadata": {},
     "output_type": "execute_result"
    }
   ],
   "source": [
    "autoencoder.fit(m.T, m.T,\n",
    "                epochs=200,\n",
    "                batch_size=32,\n",
    "                shuffle=True,\n",
    "                validation_data=(test_m.T, test_m.T) )"
   ]
  },
  {
   "cell_type": "markdown",
   "metadata": {},
   "source": [
    "## 建立 Encoder"
   ]
  },
  {
   "cell_type": "code",
   "execution_count": 68,
   "metadata": {},
   "outputs": [],
   "source": [
    "encoder = Model(input_data, encoded)"
   ]
  },
  {
   "cell_type": "code",
   "execution_count": 72,
   "metadata": {},
   "outputs": [],
   "source": [
    "encoded_data = encoder.predict(training_m.T)"
   ]
  },
  {
   "cell_type": "code",
   "execution_count": 73,
   "metadata": {},
   "outputs": [
    {
     "data": {
      "text/plain": [
       "(1682, 50)"
      ]
     },
     "execution_count": 73,
     "metadata": {},
     "output_type": "execute_result"
    }
   ],
   "source": [
    "encoded_data.shape"
   ]
  },
  {
   "cell_type": "markdown",
   "metadata": {},
   "source": [
    "## 建立 Decoder"
   ]
  },
  {
   "cell_type": "code",
   "execution_count": 74,
   "metadata": {},
   "outputs": [],
   "source": [
    "encoded_input = Input(shape=(encoding_dim,))\n",
    "decoder_layer = autoencoder.layers[-1]\n",
    "decoder = Model(encoded_input, decoder_layer(encoded_input))"
   ]
  },
  {
   "cell_type": "code",
   "execution_count": 77,
   "metadata": {},
   "outputs": [],
   "source": [
    "pred = decoder.predict(encoded_data)"
   ]
  },
  {
   "cell_type": "markdown",
   "metadata": {},
   "source": [
    "## 检视原始与重建数据"
   ]
  },
  {
   "cell_type": "code",
   "execution_count": 94,
   "metadata": {},
   "outputs": [
    {
     "data": {
      "text/plain": [
       "0.920332936979786"
      ]
     },
     "execution_count": 94,
     "metadata": {},
     "output_type": "execute_result"
    }
   ],
   "source": [
    "sum((pred[:,0] > 0.001).astype(int) == training_m.T[:,0]) / len(training_m.T[:,0])"
   ]
  },
  {
   "cell_type": "code",
   "execution_count": 95,
   "metadata": {},
   "outputs": [
    {
     "data": {
      "text/plain": [
       "0.9473389882014418"
      ]
     },
     "execution_count": 95,
     "metadata": {},
     "output_type": "execute_result"
    }
   ],
   "source": [
    "((pred > 0.001).astype(int) == training_m.T).sum() / (1682 * 943)"
   ]
  },
  {
   "cell_type": "code",
   "execution_count": 96,
   "metadata": {},
   "outputs": [
    {
     "data": {
      "text/plain": [
       "0.04412707051763893"
      ]
     },
     "execution_count": 96,
     "metadata": {},
     "output_type": "execute_result"
    }
   ],
   "source": [
    "pred[ training_m.T == 0] = 0\n",
    "mse = np.mean(np.power(training_m.T.flatten() - pred.flatten(), 2))\n",
    "mse"
   ]
  },
  {
   "cell_type": "markdown",
   "metadata": {},
   "source": [
    "## 套用到测试数据集"
   ]
  },
  {
   "cell_type": "code",
   "execution_count": 81,
   "metadata": {},
   "outputs": [],
   "source": [
    "encoded_test_data = encoder.predict(test_m.T)"
   ]
  },
  {
   "cell_type": "code",
   "execution_count": 82,
   "metadata": {},
   "outputs": [],
   "source": [
    "pred_test = decoder.predict(encoded_test_data)"
   ]
  },
  {
   "cell_type": "code",
   "execution_count": 83,
   "metadata": {},
   "outputs": [
    {
     "data": {
      "text/plain": [
       "0.963634667107153"
      ]
     },
     "execution_count": 83,
     "metadata": {},
     "output_type": "execute_result"
    }
   ],
   "source": [
    "((pred_test > 0.001).astype(int) == test_m.T).sum() / (1682 * 943)"
   ]
  },
  {
   "cell_type": "code",
   "execution_count": 93,
   "metadata": {},
   "outputs": [
    {
     "data": {
      "text/plain": [
       "0.012577480334775201"
      ]
     },
     "execution_count": 93,
     "metadata": {},
     "output_type": "execute_result"
    }
   ],
   "source": [
    "pred_test[ test_m.T == 0] = 0\n",
    "mse = np.mean(np.power(test_m.T.flatten() - pred_test.flatten(), 2))\n",
    "mse"
   ]
  }
 ],
 "metadata": {
  "kernelspec": {
   "display_name": "Python 3",
   "language": "python",
   "name": "python3"
  },
  "language_info": {
   "codemirror_mode": {
    "name": "ipython",
    "version": 3
   },
   "file_extension": ".py",
   "mimetype": "text/x-python",
   "name": "python",
   "nbconvert_exporter": "python",
   "pygments_lexer": "ipython3",
   "version": "3.6.2"
  }
 },
 "nbformat": 4,
 "nbformat_minor": 2
}
