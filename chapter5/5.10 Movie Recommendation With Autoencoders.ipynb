{
 "cells": [
  {
   "cell_type": "markdown",
   "metadata": {},
   "source": [
    "## 读取MovieLens 数据"
   ]
  },
  {
   "cell_type": "code",
   "execution_count": 1,
   "metadata": {},
   "outputs": [
    {
     "data": {
      "text/html": [
       "<div>\n",
       "<style scoped>\n",
       "    .dataframe tbody tr th:only-of-type {\n",
       "        vertical-align: middle;\n",
       "    }\n",
       "\n",
       "    .dataframe tbody tr th {\n",
       "        vertical-align: top;\n",
       "    }\n",
       "\n",
       "    .dataframe thead th {\n",
       "        text-align: right;\n",
       "    }\n",
       "</style>\n",
       "<table border=\"1\" class=\"dataframe\">\n",
       "  <thead>\n",
       "    <tr style=\"text-align: right;\">\n",
       "      <th></th>\n",
       "      <th>userid</th>\n",
       "      <th>itemid</th>\n",
       "      <th>rating</th>\n",
       "      <th>tm</th>\n",
       "    </tr>\n",
       "  </thead>\n",
       "  <tbody>\n",
       "    <tr>\n",
       "      <th>0</th>\n",
       "      <td>1</td>\n",
       "      <td>1</td>\n",
       "      <td>5</td>\n",
       "      <td>874965758</td>\n",
       "    </tr>\n",
       "    <tr>\n",
       "      <th>1</th>\n",
       "      <td>1</td>\n",
       "      <td>2</td>\n",
       "      <td>3</td>\n",
       "      <td>876893171</td>\n",
       "    </tr>\n",
       "    <tr>\n",
       "      <th>2</th>\n",
       "      <td>1</td>\n",
       "      <td>3</td>\n",
       "      <td>4</td>\n",
       "      <td>878542960</td>\n",
       "    </tr>\n",
       "    <tr>\n",
       "      <th>3</th>\n",
       "      <td>1</td>\n",
       "      <td>4</td>\n",
       "      <td>3</td>\n",
       "      <td>876893119</td>\n",
       "    </tr>\n",
       "    <tr>\n",
       "      <th>4</th>\n",
       "      <td>1</td>\n",
       "      <td>5</td>\n",
       "      <td>3</td>\n",
       "      <td>889751712</td>\n",
       "    </tr>\n",
       "  </tbody>\n",
       "</table>\n",
       "</div>"
      ],
      "text/plain": [
       "   userid  itemid  rating         tm\n",
       "0       1       1       5  874965758\n",
       "1       1       2       3  876893171\n",
       "2       1       3       4  878542960\n",
       "3       1       4       3  876893119\n",
       "4       1       5       3  889751712"
      ]
     },
     "execution_count": 1,
     "metadata": {},
     "output_type": "execute_result"
    }
   ],
   "source": [
    "import pandas\n",
    "training_set = pandas.read_csv('../ml-100k/u1.base', sep = '\\t', names = ['userid', 'itemid', 'rating', 'tm'])\n",
    "training_set.head()"
   ]
  },
  {
   "cell_type": "code",
   "execution_count": 2,
   "metadata": {},
   "outputs": [
    {
     "data": {
      "text/html": [
       "<div>\n",
       "<style scoped>\n",
       "    .dataframe tbody tr th:only-of-type {\n",
       "        vertical-align: middle;\n",
       "    }\n",
       "\n",
       "    .dataframe tbody tr th {\n",
       "        vertical-align: top;\n",
       "    }\n",
       "\n",
       "    .dataframe thead th {\n",
       "        text-align: right;\n",
       "    }\n",
       "</style>\n",
       "<table border=\"1\" class=\"dataframe\">\n",
       "  <thead>\n",
       "    <tr style=\"text-align: right;\">\n",
       "      <th></th>\n",
       "      <th>userid</th>\n",
       "      <th>itemid</th>\n",
       "      <th>rating</th>\n",
       "      <th>tm</th>\n",
       "    </tr>\n",
       "  </thead>\n",
       "  <tbody>\n",
       "    <tr>\n",
       "      <th>0</th>\n",
       "      <td>1</td>\n",
       "      <td>6</td>\n",
       "      <td>5</td>\n",
       "      <td>887431973</td>\n",
       "    </tr>\n",
       "    <tr>\n",
       "      <th>1</th>\n",
       "      <td>1</td>\n",
       "      <td>10</td>\n",
       "      <td>3</td>\n",
       "      <td>875693118</td>\n",
       "    </tr>\n",
       "    <tr>\n",
       "      <th>2</th>\n",
       "      <td>1</td>\n",
       "      <td>12</td>\n",
       "      <td>5</td>\n",
       "      <td>878542960</td>\n",
       "    </tr>\n",
       "    <tr>\n",
       "      <th>3</th>\n",
       "      <td>1</td>\n",
       "      <td>14</td>\n",
       "      <td>5</td>\n",
       "      <td>874965706</td>\n",
       "    </tr>\n",
       "    <tr>\n",
       "      <th>4</th>\n",
       "      <td>1</td>\n",
       "      <td>17</td>\n",
       "      <td>3</td>\n",
       "      <td>875073198</td>\n",
       "    </tr>\n",
       "  </tbody>\n",
       "</table>\n",
       "</div>"
      ],
      "text/plain": [
       "   userid  itemid  rating         tm\n",
       "0       1       6       5  887431973\n",
       "1       1      10       3  875693118\n",
       "2       1      12       5  878542960\n",
       "3       1      14       5  874965706\n",
       "4       1      17       3  875073198"
      ]
     },
     "execution_count": 2,
     "metadata": {},
     "output_type": "execute_result"
    }
   ],
   "source": [
    "import pandas\n",
    "test_set = pandas.read_csv('../ml-100k/u1.test', sep = '\\t', names = ['userid', 'itemid', 'rating', 'tm'])\n",
    "test_set.head()"
   ]
  },
  {
   "cell_type": "markdown",
   "metadata": {},
   "source": [
    "## 计算电影与使用者数量"
   ]
  },
  {
   "cell_type": "code",
   "execution_count": 3,
   "metadata": {},
   "outputs": [
    {
     "data": {
      "text/plain": [
       "1682"
      ]
     },
     "execution_count": 3,
     "metadata": {},
     "output_type": "execute_result"
    }
   ],
   "source": [
    "n_movies = max(max(training_set.itemid.tolist()), max(test_set.itemid.tolist()))\n",
    "n_movies"
   ]
  },
  {
   "cell_type": "code",
   "execution_count": 4,
   "metadata": {},
   "outputs": [
    {
     "data": {
      "text/plain": [
       "943"
      ]
     },
     "execution_count": 4,
     "metadata": {},
     "output_type": "execute_result"
    }
   ],
   "source": [
    "n_users= max(max(training_set.userid.tolist()), max(test_set.userid.tolist()))\n",
    "n_users"
   ]
  },
  {
   "cell_type": "markdown",
   "metadata": {},
   "source": [
    "## 建立训练数据集矩阵"
   ]
  },
  {
   "cell_type": "code",
   "execution_count": 5,
   "metadata": {},
   "outputs": [],
   "source": [
    "import numpy as np\n",
    "training_m = np.zeros((n_users, n_movies))\n",
    "for rec in training_set.iterrows():\n",
    "    training_m[rec[1].userid - 1 , rec[1].itemid - 1] = 1"
   ]
  },
  {
   "cell_type": "code",
   "execution_count": 6,
   "metadata": {},
   "outputs": [
    {
     "data": {
      "text/plain": [
       "(943, 1682)"
      ]
     },
     "execution_count": 6,
     "metadata": {},
     "output_type": "execute_result"
    }
   ],
   "source": [
    "training_m.shape"
   ]
  },
  {
   "cell_type": "code",
   "execution_count": 7,
   "metadata": {},
   "outputs": [
    {
     "data": {
      "text/plain": [
       "array([[1., 1., 1., ..., 0., 0., 0.],\n",
       "       [1., 0., 0., ..., 0., 0., 0.],\n",
       "       [0., 0., 0., ..., 0., 0., 0.],\n",
       "       ...,\n",
       "       [1., 0., 0., ..., 0., 0., 0.],\n",
       "       [0., 0., 0., ..., 0., 0., 0.],\n",
       "       [0., 1., 0., ..., 0., 0., 0.]])"
      ]
     },
     "execution_count": 7,
     "metadata": {},
     "output_type": "execute_result"
    }
   ],
   "source": [
    "training_m"
   ]
  },
  {
   "cell_type": "markdown",
   "metadata": {},
   "source": [
    "## 建立测试数据集矩阵"
   ]
  },
  {
   "cell_type": "code",
   "execution_count": 8,
   "metadata": {},
   "outputs": [],
   "source": [
    "import numpy as np\n",
    "test_m = np.zeros((n_users, n_movies))\n",
    "for rec in test_set.iterrows():\n",
    "    test_m[rec[1].userid - 1 , rec[1].itemid - 1] = 1"
   ]
  },
  {
   "cell_type": "code",
   "execution_count": 9,
   "metadata": {},
   "outputs": [
    {
     "data": {
      "text/plain": [
       "(943, 1682)"
      ]
     },
     "execution_count": 9,
     "metadata": {},
     "output_type": "execute_result"
    }
   ],
   "source": [
    "test_m.shape"
   ]
  },
  {
   "cell_type": "code",
   "execution_count": 10,
   "metadata": {},
   "outputs": [
    {
     "data": {
      "text/plain": [
       "array([[0., 0., 0., ..., 0., 0., 0.],\n",
       "       [0., 0., 0., ..., 0., 0., 0.],\n",
       "       [0., 0., 0., ..., 0., 0., 0.],\n",
       "       ...,\n",
       "       [0., 0., 0., ..., 0., 0., 0.],\n",
       "       [0., 0., 0., ..., 0., 0., 0.],\n",
       "       [0., 0., 0., ..., 0., 0., 0.]])"
      ]
     },
     "execution_count": 10,
     "metadata": {},
     "output_type": "execute_result"
    }
   ],
   "source": [
    "test_m"
   ]
  },
  {
   "cell_type": "markdown",
   "metadata": {},
   "source": [
    "## 建立Autoencoders"
   ]
  },
  {
   "cell_type": "code",
   "execution_count": 11,
   "metadata": {},
   "outputs": [
    {
     "name": "stderr",
     "output_type": "stream",
     "text": [
      "Using TensorFlow backend.\n"
     ]
    },
    {
     "name": "stdout",
     "output_type": "stream",
     "text": [
      "WARNING:tensorflow:From /Users/davidchiu/.pyenv/versions/3.6.2/lib/python3.6/site-packages/keras/backend/tensorflow_backend.py:1349: calling reduce_mean (from tensorflow.python.ops.math_ops) with keep_dims is deprecated and will be removed in a future version.\n",
      "Instructions for updating:\n",
      "keep_dims is deprecated, use keepdims instead\n"
     ]
    }
   ],
   "source": [
    "from keras.layers import Input, Dense\n",
    "from keras.models import Model\n",
    "\n",
    "encoding_dim = 50  \n",
    "input_data = Input(shape=(n_users,))\n",
    "encoded = Dense(encoding_dim, activation='softmax')(input_data)\n",
    "decoded = Dense(n_users)(encoded)\n",
    "\n",
    "autoencoder = Model(input_data, decoded)\n",
    "autoencoder.compile(optimizer='adam', loss='mean_absolute_error')"
   ]
  },
  {
   "cell_type": "markdown",
   "metadata": {},
   "source": [
    "## 训练Autoencoders"
   ]
  },
  {
   "cell_type": "code",
   "execution_count": 12,
   "metadata": {},
   "outputs": [
    {
     "name": "stdout",
     "output_type": "stream",
     "text": [
      "Train on 1682 samples, validate on 1682 samples\n",
      "Epoch 1/100\n",
      "1682/1682 [==============================] - 0s 219us/step - loss: 0.0518 - val_loss: 0.0132\n",
      "Epoch 2/100\n",
      "1682/1682 [==============================] - 0s 131us/step - loss: 0.0511 - val_loss: 0.0131\n",
      "Epoch 3/100\n",
      "1682/1682 [==============================] - 0s 131us/step - loss: 0.0510 - val_loss: 0.0130\n",
      "Epoch 4/100\n",
      "1682/1682 [==============================] - 0s 130us/step - loss: 0.0508 - val_loss: 0.0130\n",
      "Epoch 5/100\n",
      "1682/1682 [==============================] - 0s 137us/step - loss: 0.0508 - val_loss: 0.0129\n",
      "Epoch 6/100\n",
      "1682/1682 [==============================] - 0s 138us/step - loss: 0.0507 - val_loss: 0.0129\n",
      "Epoch 7/100\n",
      "1682/1682 [==============================] - 0s 142us/step - loss: 0.0507 - val_loss: 0.0129\n",
      "Epoch 8/100\n",
      "1682/1682 [==============================] - 0s 139us/step - loss: 0.0507 - val_loss: 0.0129\n",
      "Epoch 9/100\n",
      "1682/1682 [==============================] - 0s 136us/step - loss: 0.0506 - val_loss: 0.0129\n",
      "Epoch 10/100\n",
      "1682/1682 [==============================] - 0s 142us/step - loss: 0.0506 - val_loss: 0.0128\n",
      "Epoch 11/100\n",
      "1682/1682 [==============================] - 0s 140us/step - loss: 0.0506 - val_loss: 0.0128\n",
      "Epoch 12/100\n",
      "1682/1682 [==============================] - 0s 140us/step - loss: 0.0506 - val_loss: 0.0128\n",
      "Epoch 13/100\n",
      "1682/1682 [==============================] - 0s 146us/step - loss: 0.0506 - val_loss: 0.0128\n",
      "Epoch 14/100\n",
      "1682/1682 [==============================] - 0s 145us/step - loss: 0.0506 - val_loss: 0.0128\n",
      "Epoch 15/100\n",
      "1682/1682 [==============================] - 0s 127us/step - loss: 0.0506 - val_loss: 0.0128\n",
      "Epoch 16/100\n",
      "1682/1682 [==============================] - 0s 143us/step - loss: 0.0506 - val_loss: 0.0128\n",
      "Epoch 17/100\n",
      "1682/1682 [==============================] - 0s 140us/step - loss: 0.0506 - val_loss: 0.0128\n",
      "Epoch 18/100\n",
      "1682/1682 [==============================] - 0s 142us/step - loss: 0.0506 - val_loss: 0.0128\n",
      "Epoch 19/100\n",
      "1682/1682 [==============================] - 0s 148us/step - loss: 0.0506 - val_loss: 0.0128\n",
      "Epoch 20/100\n",
      "1682/1682 [==============================] - 0s 158us/step - loss: 0.0506 - val_loss: 0.0128\n",
      "Epoch 21/100\n",
      "1682/1682 [==============================] - 0s 153us/step - loss: 0.0506 - val_loss: 0.0128\n",
      "Epoch 22/100\n",
      "1682/1682 [==============================] - 0s 151us/step - loss: 0.0506 - val_loss: 0.0128\n",
      "Epoch 23/100\n",
      "1682/1682 [==============================] - 0s 149us/step - loss: 0.0506 - val_loss: 0.0128\n",
      "Epoch 24/100\n",
      "1682/1682 [==============================] - 0s 151us/step - loss: 0.0506 - val_loss: 0.0128\n",
      "Epoch 25/100\n",
      "1682/1682 [==============================] - 0s 158us/step - loss: 0.0506 - val_loss: 0.0128\n",
      "Epoch 26/100\n",
      "1682/1682 [==============================] - 0s 151us/step - loss: 0.0506 - val_loss: 0.0128\n",
      "Epoch 27/100\n",
      "1682/1682 [==============================] - 0s 147us/step - loss: 0.0506 - val_loss: 0.0128\n",
      "Epoch 28/100\n",
      "1682/1682 [==============================] - 0s 148us/step - loss: 0.0506 - val_loss: 0.0128\n",
      "Epoch 29/100\n",
      "1682/1682 [==============================] - 0s 152us/step - loss: 0.0506 - val_loss: 0.0128\n",
      "Epoch 30/100\n",
      "1682/1682 [==============================] - 0s 153us/step - loss: 0.0506 - val_loss: 0.0128\n",
      "Epoch 31/100\n",
      "1682/1682 [==============================] - 0s 151us/step - loss: 0.0506 - val_loss: 0.0128\n",
      "Epoch 32/100\n",
      "1682/1682 [==============================] - 0s 176us/step - loss: 0.0506 - val_loss: 0.0128\n",
      "Epoch 33/100\n",
      "1682/1682 [==============================] - 0s 175us/step - loss: 0.0506 - val_loss: 0.0128\n",
      "Epoch 34/100\n",
      "1682/1682 [==============================] - 0s 164us/step - loss: 0.0506 - val_loss: 0.0128\n",
      "Epoch 35/100\n",
      "1682/1682 [==============================] - 0s 165us/step - loss: 0.0506 - val_loss: 0.0128\n",
      "Epoch 36/100\n",
      "1682/1682 [==============================] - 0s 163us/step - loss: 0.0506 - val_loss: 0.0128\n",
      "Epoch 37/100\n",
      "1682/1682 [==============================] - 0s 148us/step - loss: 0.0506 - val_loss: 0.0128\n",
      "Epoch 38/100\n",
      "1682/1682 [==============================] - 0s 164us/step - loss: 0.0506 - val_loss: 0.0128\n",
      "Epoch 39/100\n",
      "1682/1682 [==============================] - 0s 154us/step - loss: 0.0506 - val_loss: 0.0128\n",
      "Epoch 40/100\n",
      "1682/1682 [==============================] - 0s 155us/step - loss: 0.0506 - val_loss: 0.0128\n",
      "Epoch 41/100\n",
      "1682/1682 [==============================] - 0s 155us/step - loss: 0.0505 - val_loss: 0.0128\n",
      "Epoch 42/100\n",
      "1682/1682 [==============================] - 0s 155us/step - loss: 0.0503 - val_loss: 0.0128\n",
      "Epoch 43/100\n",
      "1682/1682 [==============================] - 0s 159us/step - loss: 0.0501 - val_loss: 0.0129\n",
      "Epoch 44/100\n",
      "1682/1682 [==============================] - 0s 157us/step - loss: 0.0498 - val_loss: 0.0129\n",
      "Epoch 45/100\n",
      "1682/1682 [==============================] - 0s 162us/step - loss: 0.0496 - val_loss: 0.0129\n",
      "Epoch 46/100\n",
      "1682/1682 [==============================] - 0s 165us/step - loss: 0.0495 - val_loss: 0.0129\n",
      "Epoch 47/100\n",
      "1682/1682 [==============================] - 0s 169us/step - loss: 0.0493 - val_loss: 0.0130\n",
      "Epoch 48/100\n",
      "1682/1682 [==============================] - 0s 161us/step - loss: 0.0491 - val_loss: 0.0130\n",
      "Epoch 49/100\n",
      "1682/1682 [==============================] - 0s 162us/step - loss: 0.0490 - val_loss: 0.0130\n",
      "Epoch 50/100\n",
      "1682/1682 [==============================] - 0s 166us/step - loss: 0.0488 - val_loss: 0.0130\n",
      "Epoch 51/100\n",
      "1682/1682 [==============================] - 0s 156us/step - loss: 0.0487 - val_loss: 0.0130\n",
      "Epoch 52/100\n",
      "1682/1682 [==============================] - 0s 156us/step - loss: 0.0486 - val_loss: 0.0130\n",
      "Epoch 53/100\n",
      "1682/1682 [==============================] - 0s 163us/step - loss: 0.0486 - val_loss: 0.0130\n",
      "Epoch 54/100\n",
      "1682/1682 [==============================] - 0s 148us/step - loss: 0.0485 - val_loss: 0.0130\n",
      "Epoch 55/100\n",
      "1682/1682 [==============================] - 0s 153us/step - loss: 0.0485 - val_loss: 0.0131\n",
      "Epoch 56/100\n",
      "1682/1682 [==============================] - 0s 158us/step - loss: 0.0484 - val_loss: 0.0130\n",
      "Epoch 57/100\n",
      "1682/1682 [==============================] - 0s 159us/step - loss: 0.0484 - val_loss: 0.0131\n",
      "Epoch 58/100\n",
      "1682/1682 [==============================] - 0s 158us/step - loss: 0.0483 - val_loss: 0.0131\n",
      "Epoch 59/100\n",
      "1682/1682 [==============================] - 0s 157us/step - loss: 0.0483 - val_loss: 0.0130\n",
      "Epoch 60/100\n",
      "1682/1682 [==============================] - 0s 164us/step - loss: 0.0483 - val_loss: 0.0131\n",
      "Epoch 61/100\n",
      "1682/1682 [==============================] - 0s 163us/step - loss: 0.0482 - val_loss: 0.0131\n",
      "Epoch 62/100\n",
      "1682/1682 [==============================] - 0s 164us/step - loss: 0.0482 - val_loss: 0.0131\n",
      "Epoch 63/100\n",
      "1682/1682 [==============================] - 0s 165us/step - loss: 0.0482 - val_loss: 0.0131\n",
      "Epoch 64/100\n",
      "1682/1682 [==============================] - 0s 169us/step - loss: 0.0482 - val_loss: 0.0131\n",
      "Epoch 65/100\n",
      "1682/1682 [==============================] - 0s 162us/step - loss: 0.0482 - val_loss: 0.0131\n",
      "Epoch 66/100\n",
      "1682/1682 [==============================] - 0s 162us/step - loss: 0.0481 - val_loss: 0.0131\n",
      "Epoch 67/100\n",
      "1682/1682 [==============================] - 0s 165us/step - loss: 0.0481 - val_loss: 0.0131\n",
      "Epoch 68/100\n",
      "1682/1682 [==============================] - 0s 164us/step - loss: 0.0481 - val_loss: 0.0131\n",
      "Epoch 69/100\n",
      "1682/1682 [==============================] - 0s 165us/step - loss: 0.0481 - val_loss: 0.0131\n",
      "Epoch 70/100\n",
      "1682/1682 [==============================] - 0s 167us/step - loss: 0.0481 - val_loss: 0.0131\n",
      "Epoch 71/100\n",
      "1682/1682 [==============================] - 0s 169us/step - loss: 0.0481 - val_loss: 0.0131\n",
      "Epoch 72/100\n",
      "1682/1682 [==============================] - 0s 161us/step - loss: 0.0480 - val_loss: 0.0131\n",
      "Epoch 73/100\n",
      "1682/1682 [==============================] - 0s 154us/step - loss: 0.0480 - val_loss: 0.0131\n",
      "Epoch 74/100\n",
      "1682/1682 [==============================] - 0s 158us/step - loss: 0.0480 - val_loss: 0.0131\n",
      "Epoch 75/100\n",
      "1682/1682 [==============================] - 0s 154us/step - loss: 0.0480 - val_loss: 0.0131\n",
      "Epoch 76/100\n",
      "1682/1682 [==============================] - 0s 170us/step - loss: 0.0480 - val_loss: 0.0131\n",
      "Epoch 77/100\n",
      "1682/1682 [==============================] - 0s 193us/step - loss: 0.0480 - val_loss: 0.0131\n"
     ]
    },
    {
     "name": "stdout",
     "output_type": "stream",
     "text": [
      "Epoch 78/100\n",
      "1682/1682 [==============================] - 0s 161us/step - loss: 0.0480 - val_loss: 0.0131\n",
      "Epoch 79/100\n",
      "1682/1682 [==============================] - 0s 155us/step - loss: 0.0480 - val_loss: 0.0131\n",
      "Epoch 80/100\n",
      "1682/1682 [==============================] - 0s 154us/step - loss: 0.0480 - val_loss: 0.0131\n",
      "Epoch 81/100\n",
      "1682/1682 [==============================] - 0s 156us/step - loss: 0.0479 - val_loss: 0.0131\n",
      "Epoch 82/100\n",
      "1682/1682 [==============================] - 0s 160us/step - loss: 0.0479 - val_loss: 0.0131\n",
      "Epoch 83/100\n",
      "1682/1682 [==============================] - 0s 162us/step - loss: 0.0479 - val_loss: 0.0131\n",
      "Epoch 84/100\n",
      "1682/1682 [==============================] - 0s 175us/step - loss: 0.0479 - val_loss: 0.0131\n",
      "Epoch 85/100\n",
      "1682/1682 [==============================] - 0s 163us/step - loss: 0.0479 - val_loss: 0.0131\n",
      "Epoch 86/100\n",
      "1682/1682 [==============================] - 0s 158us/step - loss: 0.0479 - val_loss: 0.0131\n",
      "Epoch 87/100\n",
      "1682/1682 [==============================] - 0s 157us/step - loss: 0.0479 - val_loss: 0.0132\n",
      "Epoch 88/100\n",
      "1682/1682 [==============================] - 0s 153us/step - loss: 0.0479 - val_loss: 0.0132\n",
      "Epoch 89/100\n",
      "1682/1682 [==============================] - 0s 155us/step - loss: 0.0479 - val_loss: 0.0132\n",
      "Epoch 90/100\n",
      "1682/1682 [==============================] - 0s 154us/step - loss: 0.0479 - val_loss: 0.0132\n",
      "Epoch 91/100\n",
      "1682/1682 [==============================] - 0s 154us/step - loss: 0.0479 - val_loss: 0.0132\n",
      "Epoch 92/100\n",
      "1682/1682 [==============================] - 0s 154us/step - loss: 0.0479 - val_loss: 0.0132\n",
      "Epoch 93/100\n",
      "1682/1682 [==============================] - 0s 150us/step - loss: 0.0479 - val_loss: 0.0132\n",
      "Epoch 94/100\n",
      "1682/1682 [==============================] - 0s 151us/step - loss: 0.0479 - val_loss: 0.0132\n",
      "Epoch 95/100\n",
      "1682/1682 [==============================] - 0s 152us/step - loss: 0.0479 - val_loss: 0.0132\n",
      "Epoch 96/100\n",
      "1682/1682 [==============================] - 0s 149us/step - loss: 0.0479 - val_loss: 0.0132\n",
      "Epoch 97/100\n",
      "1682/1682 [==============================] - 0s 149us/step - loss: 0.0478 - val_loss: 0.0132\n",
      "Epoch 98/100\n",
      "1682/1682 [==============================] - 0s 150us/step - loss: 0.0478 - val_loss: 0.0132\n",
      "Epoch 99/100\n",
      "1682/1682 [==============================] - 0s 156us/step - loss: 0.0478 - val_loss: 0.0132\n",
      "Epoch 100/100\n",
      "1682/1682 [==============================] - 0s 153us/step - loss: 0.0478 - val_loss: 0.0132\n"
     ]
    },
    {
     "data": {
      "text/plain": [
       "<keras.callbacks.History at 0x11b4853c8>"
      ]
     },
     "execution_count": 12,
     "metadata": {},
     "output_type": "execute_result"
    }
   ],
   "source": [
    "autoencoder.fit(training_m.T, training_m.T,\n",
    "                epochs=100,\n",
    "                batch_size=32,\n",
    "                shuffle=True,\n",
    "                validation_data=(test_m.T, test_m.T) )"
   ]
  },
  {
   "cell_type": "markdown",
   "metadata": {},
   "source": [
    "## 建立 Encoder"
   ]
  },
  {
   "cell_type": "code",
   "execution_count": 16,
   "metadata": {},
   "outputs": [],
   "source": [
    "encoder = Model(input_data, encoded)"
   ]
  },
  {
   "cell_type": "code",
   "execution_count": 17,
   "metadata": {},
   "outputs": [],
   "source": [
    "encoded_data = encoder.predict(training_m.T)"
   ]
  },
  {
   "cell_type": "code",
   "execution_count": 18,
   "metadata": {},
   "outputs": [
    {
     "data": {
      "text/plain": [
       "(1682, 50)"
      ]
     },
     "execution_count": 18,
     "metadata": {},
     "output_type": "execute_result"
    }
   ],
   "source": [
    "encoded_data.shape"
   ]
  },
  {
   "cell_type": "markdown",
   "metadata": {},
   "source": [
    "## 建立 Decoder"
   ]
  },
  {
   "cell_type": "code",
   "execution_count": 19,
   "metadata": {},
   "outputs": [],
   "source": [
    "encoded_input = Input(shape=(encoding_dim,))\n",
    "decoder_layer = autoencoder.layers[-1]\n",
    "decoder = Model(encoded_input, decoder_layer(encoded_input))"
   ]
  },
  {
   "cell_type": "code",
   "execution_count": 20,
   "metadata": {},
   "outputs": [],
   "source": [
    "pred = decoder.predict(encoded_data)"
   ]
  },
  {
   "cell_type": "code",
   "execution_count": 22,
   "metadata": {},
   "outputs": [
    {
     "data": {
      "text/plain": [
       "(1682, 943)"
      ]
     },
     "execution_count": 22,
     "metadata": {},
     "output_type": "execute_result"
    }
   ],
   "source": [
    "pred.shape"
   ]
  },
  {
   "cell_type": "markdown",
   "metadata": {},
   "source": [
    "## 检视原始与重建数据"
   ]
  },
  {
   "cell_type": "code",
   "execution_count": 26,
   "metadata": {},
   "outputs": [
    {
     "data": {
      "text/plain": [
       "array([0, 0, 0, ..., 0, 0, 0])"
      ]
     },
     "execution_count": 26,
     "metadata": {},
     "output_type": "execute_result"
    }
   ],
   "source": [
    "#pred\n",
    "(pred[:,0] > 0.001).astype(int)"
   ]
  },
  {
   "cell_type": "code",
   "execution_count": 27,
   "metadata": {},
   "outputs": [
    {
     "data": {
      "text/plain": [
       "0.9197384066587396"
      ]
     },
     "execution_count": 27,
     "metadata": {},
     "output_type": "execute_result"
    }
   ],
   "source": [
    "sum((pred[:,0] > 0.001).astype(int) == training_m.T[:,0]) / len(training_m.T[:,0])"
   ]
  },
  {
   "cell_type": "code",
   "execution_count": 28,
   "metadata": {},
   "outputs": [
    {
     "data": {
      "text/plain": [
       "0.9412058058439241"
      ]
     },
     "execution_count": 28,
     "metadata": {},
     "output_type": "execute_result"
    }
   ],
   "source": [
    "((pred > 0.001).astype(int) == training_m.T).sum() / (1682 * 943)"
   ]
  },
  {
   "cell_type": "code",
   "execution_count": 29,
   "metadata": {},
   "outputs": [
    {
     "data": {
      "text/plain": [
       "0.04462493029919939"
      ]
     },
     "execution_count": 29,
     "metadata": {},
     "output_type": "execute_result"
    }
   ],
   "source": [
    "pred[ training_m.T == 0] = 0\n",
    "mse = np.mean(np.power(training_m.T.flatten() - pred.flatten(), 2))\n",
    "mse"
   ]
  },
  {
   "cell_type": "markdown",
   "metadata": {},
   "source": [
    "## 套用到测试数据集"
   ]
  },
  {
   "cell_type": "code",
   "execution_count": 30,
   "metadata": {},
   "outputs": [],
   "source": [
    "encoded_test_data = encoder.predict(test_m.T)"
   ]
  },
  {
   "cell_type": "code",
   "execution_count": 31,
   "metadata": {},
   "outputs": [],
   "source": [
    "pred_test = decoder.predict(encoded_test_data)"
   ]
  },
  {
   "cell_type": "code",
   "execution_count": 32,
   "metadata": {},
   "outputs": [
    {
     "data": {
      "text/plain": [
       "0.9583557674484877"
      ]
     },
     "execution_count": 32,
     "metadata": {},
     "output_type": "execute_result"
    }
   ],
   "source": [
    "((pred_test > 0.001).astype(int) == test_m.T).sum() / (1682 * 943)"
   ]
  },
  {
   "cell_type": "code",
   "execution_count": 33,
   "metadata": {},
   "outputs": [
    {
     "data": {
      "text/plain": [
       "0.012590241568206168"
      ]
     },
     "execution_count": 33,
     "metadata": {},
     "output_type": "execute_result"
    }
   ],
   "source": [
    "pred_test[ test_m.T == 0] = 0\n",
    "mse = np.mean(np.power(test_m.T.flatten() - pred_test.flatten(), 2))\n",
    "mse"
   ]
  },
  {
   "cell_type": "code",
   "execution_count": null,
   "metadata": {},
   "outputs": [],
   "source": []
  }
 ],
 "metadata": {
  "kernelspec": {
   "display_name": "Python 3",
   "language": "python",
   "name": "python3"
  },
  "language_info": {
   "codemirror_mode": {
    "name": "ipython",
    "version": 3
   },
   "file_extension": ".py",
   "mimetype": "text/x-python",
   "name": "python",
   "nbconvert_exporter": "python",
   "pygments_lexer": "ipython3",
   "version": "3.6.2"
  }
 },
 "nbformat": 4,
 "nbformat_minor": 2
}
