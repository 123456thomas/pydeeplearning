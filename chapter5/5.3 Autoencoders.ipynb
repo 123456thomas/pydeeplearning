{
 "cells": [
  {
   "cell_type": "markdown",
   "metadata": {},
   "source": [
    "## 读取MNIST数据"
   ]
  },
  {
   "cell_type": "code",
   "execution_count": 20,
   "metadata": {},
   "outputs": [],
   "source": [
    "from keras.datasets import mnist\n",
    "import numpy as np\n",
    "(x_train, y_train), (x_test, y_test) = mnist.load_data()"
   ]
  },
  {
   "cell_type": "code",
   "execution_count": 21,
   "metadata": {},
   "outputs": [],
   "source": [
    "x_train = x_train.reshape(60000, 784)\n",
    "x_test = x_test.reshape(10000, 784)\n",
    "x_train = x_train.astype('float32')\n",
    "x_test  = x_test.astype('float32')\n",
    "x_train /= 255\n",
    "x_test  /= 255"
   ]
  },
  {
   "cell_type": "markdown",
   "metadata": {},
   "source": [
    "## 建立Autoencoders"
   ]
  },
  {
   "cell_type": "code",
   "execution_count": 23,
   "metadata": {},
   "outputs": [],
   "source": [
    "from keras.layers import Input, Dense\n",
    "from keras.models import Model\n",
    "\n",
    "\n",
    "encoding_dim = 32  \n",
    "input_img = Input(shape=(784,))\n",
    "encoded = Dense(encoding_dim, activation='relu')(input_img)\n",
    "decoded = Dense(784, activation='sigmoid')(encoded)\n",
    "\n",
    "autoencoder = Model(input_img, decoded)\n",
    "autoencoder.compile(optimizer='adam', loss='binary_crossentropy')"
   ]
  },
  {
   "cell_type": "code",
   "execution_count": 22,
   "metadata": {},
   "outputs": [
    {
     "data": {
      "text/plain": [
       "24.5"
      ]
     },
     "execution_count": 22,
     "metadata": {},
     "output_type": "execute_result"
    }
   ],
   "source": [
    "784 / 32"
   ]
  },
  {
   "cell_type": "markdown",
   "metadata": {},
   "source": [
    "## 训练Autoencoders"
   ]
  },
  {
   "cell_type": "code",
   "execution_count": 24,
   "metadata": {},
   "outputs": [
    {
     "name": "stdout",
     "output_type": "stream",
     "text": [
      "Train on 60000 samples, validate on 10000 samples\n",
      "Epoch 1/50\n",
      "60000/60000 [==============================] - 2s 34us/step - loss: 0.2748 - val_loss: 0.1876\n",
      "Epoch 2/50\n",
      "60000/60000 [==============================] - 2s 34us/step - loss: 0.1695 - val_loss: 0.1525\n",
      "Epoch 3/50\n",
      "60000/60000 [==============================] - 2s 30us/step - loss: 0.1439 - val_loss: 0.1336\n",
      "Epoch 4/50\n",
      "60000/60000 [==============================] - 2s 32us/step - loss: 0.1290 - val_loss: 0.1219\n",
      "Epoch 5/50\n",
      "60000/60000 [==============================] - 2s 28us/step - loss: 0.1193 - val_loss: 0.1138\n",
      "Epoch 6/50\n",
      "60000/60000 [==============================] - 2s 28us/step - loss: 0.1122 - val_loss: 0.1078\n",
      "Epoch 7/50\n",
      "60000/60000 [==============================] - 2s 29us/step - loss: 0.1070 - val_loss: 0.1033\n",
      "Epoch 8/50\n",
      "60000/60000 [==============================] - 2s 29us/step - loss: 0.1030 - val_loss: 0.1001\n",
      "Epoch 9/50\n",
      "60000/60000 [==============================] - 2s 31us/step - loss: 0.1001 - val_loss: 0.0975\n",
      "Epoch 10/50\n",
      "60000/60000 [==============================] - 2s 31us/step - loss: 0.0981 - val_loss: 0.0959\n",
      "Epoch 11/50\n",
      "60000/60000 [==============================] - 2s 30us/step - loss: 0.0967 - val_loss: 0.0947\n",
      "Epoch 12/50\n",
      "60000/60000 [==============================] - 2s 30us/step - loss: 0.0958 - val_loss: 0.0941\n",
      "Epoch 13/50\n",
      "60000/60000 [==============================] - 2s 30us/step - loss: 0.0952 - val_loss: 0.0935\n",
      "Epoch 14/50\n",
      "60000/60000 [==============================] - 2s 31us/step - loss: 0.0948 - val_loss: 0.0932\n",
      "Epoch 15/50\n",
      "60000/60000 [==============================] - 2s 31us/step - loss: 0.0945 - val_loss: 0.0929\n",
      "Epoch 16/50\n",
      "60000/60000 [==============================] - 2s 30us/step - loss: 0.0942 - val_loss: 0.0927\n",
      "Epoch 17/50\n",
      "60000/60000 [==============================] - 2s 31us/step - loss: 0.0940 - val_loss: 0.0925\n",
      "Epoch 18/50\n",
      "60000/60000 [==============================] - 2s 31us/step - loss: 0.0939 - val_loss: 0.0926\n",
      "Epoch 19/50\n",
      "60000/60000 [==============================] - 2s 32us/step - loss: 0.0938 - val_loss: 0.0923\n",
      "Epoch 20/50\n",
      "60000/60000 [==============================] - 2s 30us/step - loss: 0.0937 - val_loss: 0.0923\n",
      "Epoch 21/50\n",
      "60000/60000 [==============================] - 2s 31us/step - loss: 0.0936 - val_loss: 0.0922\n",
      "Epoch 22/50\n",
      "60000/60000 [==============================] - 2s 31us/step - loss: 0.0935 - val_loss: 0.0922\n",
      "Epoch 23/50\n",
      "60000/60000 [==============================] - 2s 31us/step - loss: 0.0934 - val_loss: 0.0920\n",
      "Epoch 24/50\n",
      "60000/60000 [==============================] - 2s 31us/step - loss: 0.0933 - val_loss: 0.0920\n",
      "Epoch 25/50\n",
      "60000/60000 [==============================] - 2s 32us/step - loss: 0.0933 - val_loss: 0.0919\n",
      "Epoch 26/50\n",
      "60000/60000 [==============================] - 2s 32us/step - loss: 0.0932 - val_loss: 0.0919\n",
      "Epoch 27/50\n",
      "60000/60000 [==============================] - 2s 32us/step - loss: 0.0932 - val_loss: 0.0919\n",
      "Epoch 28/50\n",
      "60000/60000 [==============================] - 2s 32us/step - loss: 0.0932 - val_loss: 0.0918\n",
      "Epoch 29/50\n",
      "60000/60000 [==============================] - 2s 31us/step - loss: 0.0931 - val_loss: 0.0918\n",
      "Epoch 30/50\n",
      "60000/60000 [==============================] - 2s 32us/step - loss: 0.0931 - val_loss: 0.0918\n",
      "Epoch 31/50\n",
      "60000/60000 [==============================] - 2s 32us/step - loss: 0.0931 - val_loss: 0.0918\n",
      "Epoch 32/50\n",
      "60000/60000 [==============================] - 2s 32us/step - loss: 0.0930 - val_loss: 0.0918\n",
      "Epoch 33/50\n",
      "60000/60000 [==============================] - 2s 31us/step - loss: 0.0930 - val_loss: 0.0917\n",
      "Epoch 34/50\n",
      "60000/60000 [==============================] - 2s 32us/step - loss: 0.0930 - val_loss: 0.0917\n",
      "Epoch 35/50\n",
      "60000/60000 [==============================] - 2s 32us/step - loss: 0.0929 - val_loss: 0.0917\n",
      "Epoch 36/50\n",
      "60000/60000 [==============================] - 2s 31us/step - loss: 0.0929 - val_loss: 0.0917\n",
      "Epoch 37/50\n",
      "60000/60000 [==============================] - 2s 34us/step - loss: 0.0929 - val_loss: 0.0917\n",
      "Epoch 38/50\n",
      "60000/60000 [==============================] - 2s 31us/step - loss: 0.0929 - val_loss: 0.0917\n",
      "Epoch 39/50\n",
      "60000/60000 [==============================] - 2s 31us/step - loss: 0.0929 - val_loss: 0.0917\n",
      "Epoch 40/50\n",
      "60000/60000 [==============================] - 2s 32us/step - loss: 0.0928 - val_loss: 0.0916\n",
      "Epoch 41/50\n",
      "60000/60000 [==============================] - 2s 34us/step - loss: 0.0928 - val_loss: 0.0916\n",
      "Epoch 42/50\n",
      "60000/60000 [==============================] - 2s 32us/step - loss: 0.0928 - val_loss: 0.0915\n",
      "Epoch 43/50\n",
      "60000/60000 [==============================] - 2s 32us/step - loss: 0.0928 - val_loss: 0.0916\n",
      "Epoch 44/50\n",
      "60000/60000 [==============================] - 2s 30us/step - loss: 0.0928 - val_loss: 0.0916\n",
      "Epoch 45/50\n",
      "60000/60000 [==============================] - 2s 31us/step - loss: 0.0928 - val_loss: 0.0915\n",
      "Epoch 46/50\n",
      "60000/60000 [==============================] - 2s 32us/step - loss: 0.0927 - val_loss: 0.0916\n",
      "Epoch 47/50\n",
      "60000/60000 [==============================] - 2s 31us/step - loss: 0.0927 - val_loss: 0.0916\n",
      "Epoch 48/50\n",
      "60000/60000 [==============================] - 2s 32us/step - loss: 0.0927 - val_loss: 0.0916\n",
      "Epoch 49/50\n",
      "60000/60000 [==============================] - 2s 32us/step - loss: 0.0927 - val_loss: 0.0916\n",
      "Epoch 50/50\n",
      "60000/60000 [==============================] - 2s 33us/step - loss: 0.0927 - val_loss: 0.0915\n"
     ]
    },
    {
     "data": {
      "text/plain": [
       "<keras.callbacks.History at 0x131331828>"
      ]
     },
     "execution_count": 24,
     "metadata": {},
     "output_type": "execute_result"
    }
   ],
   "source": [
    "autoencoder.fit(x_train, x_train,\n",
    "                epochs=50,\n",
    "                batch_size=256,\n",
    "                shuffle=True,\n",
    "                validation_data=(x_test, x_test))"
   ]
  },
  {
   "cell_type": "markdown",
   "metadata": {},
   "source": [
    "## 建立 Encoder"
   ]
  },
  {
   "cell_type": "code",
   "execution_count": 26,
   "metadata": {},
   "outputs": [],
   "source": [
    "encoder = Model(input_img, encoded)"
   ]
  },
  {
   "cell_type": "code",
   "execution_count": 27,
   "metadata": {},
   "outputs": [],
   "source": [
    "encoded_imgs = encoder.predict(x_test)"
   ]
  },
  {
   "cell_type": "code",
   "execution_count": 28,
   "metadata": {},
   "outputs": [
    {
     "data": {
      "text/plain": [
       "(10000, 32)"
      ]
     },
     "execution_count": 28,
     "metadata": {},
     "output_type": "execute_result"
    }
   ],
   "source": [
    "encoded_imgs.shape"
   ]
  },
  {
   "cell_type": "markdown",
   "metadata": {},
   "source": [
    "## 建立 Decoder"
   ]
  },
  {
   "cell_type": "code",
   "execution_count": 29,
   "metadata": {},
   "outputs": [],
   "source": [
    "encoded_input = Input(shape=(encoding_dim,))\n",
    "decoder_layer = autoencoder.layers[-1]\n",
    "decoder = Model(encoded_input, decoder_layer(encoded_input))"
   ]
  },
  {
   "cell_type": "code",
   "execution_count": 30,
   "metadata": {},
   "outputs": [],
   "source": [
    "decoded_imgs = decoder.predict(encoded_imgs)"
   ]
  },
  {
   "cell_type": "code",
   "execution_count": 31,
   "metadata": {},
   "outputs": [
    {
     "data": {
      "text/plain": [
       "(10000, 784)"
      ]
     },
     "execution_count": 31,
     "metadata": {},
     "output_type": "execute_result"
    }
   ],
   "source": [
    "decoded_imgs.shape"
   ]
  },
  {
   "cell_type": "markdown",
   "metadata": {},
   "source": [
    "## 检视原始与重建数据"
   ]
  },
  {
   "cell_type": "code",
   "execution_count": 32,
   "metadata": {},
   "outputs": [
    {
     "name": "stdout",
     "output_type": "stream",
     "text": [
      "Populating the interactive namespace from numpy and matplotlib\n"
     ]
    },
    {
     "data": {
      "image/png": "[encoded data removed]",
      "text/plain": [
       "<Figure size 1440x288 with 20 Axes>"
      ]
     },
     "metadata": {},
     "output_type": "display_data"
    }
   ],
   "source": [
    "%pylab inline\n",
    "import matplotlib.pyplot as plt\n",
    "\n",
    "n = 10 \n",
    "plt.figure(figsize=(20, 4))\n",
    "for i in range(n):\n",
    "    # 原始图片\n",
    "    ax = plt.subplot(2, n, i + 1)\n",
    "    plt.imshow(x_test[i].reshape(28, 28))\n",
    "\n",
    "    # 重建图片\n",
    "    ax = plt.subplot(2, n, i + 1 + n)\n",
    "    plt.imshow(decoded_imgs[i].reshape(28, 28))\n",
    "    \n",
    "plt.show()"
   ]
  },
  {
   "cell_type": "code",
   "execution_count": null,
   "metadata": {},
   "outputs": [],
   "source": []
  }
 ],
 "metadata": {
  "kernelspec": {
   "display_name": "Python 3",
   "language": "python",
   "name": "python3"
  },
  "language_info": {
   "codemirror_mode": {
    "name": "ipython",
    "version": 3
   },
   "file_extension": ".py",
   "mimetype": "text/x-python",
   "name": "python",
   "nbconvert_exporter": "python",
   "pygments_lexer": "ipython3",
   "version": "3.6.2"
  }
 },
 "nbformat": 4,
 "nbformat_minor": 2
}
