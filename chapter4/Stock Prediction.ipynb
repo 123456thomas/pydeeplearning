{
 "cells": [
  {
   "cell_type": "markdown",
   "metadata": {},
   "source": [
    "## 安装Pandas Datareader"
   ]
  },
  {
   "cell_type": "code",
   "execution_count": 73,
   "metadata": {},
   "outputs": [
    {
     "name": "stdout",
     "output_type": "stream",
     "text": [
      "Requirement already satisfied: pandas_datareader in /Users/davidchiu/.pyenv/versions/3.6.2/lib/python3.6/site-packages\n",
      "Requirement already satisfied: requests>=2.3.0 in /Users/davidchiu/.pyenv/versions/3.6.2/lib/python3.6/site-packages (from pandas_datareader)\n",
      "Requirement already satisfied: requests-file in /Users/davidchiu/.pyenv/versions/3.6.2/lib/python3.6/site-packages (from pandas_datareader)\n",
      "Requirement already satisfied: pandas>=0.17.0 in /Users/davidchiu/.pyenv/versions/3.6.2/lib/python3.6/site-packages (from pandas_datareader)\n",
      "Requirement already satisfied: requests-ftp in /Users/davidchiu/.pyenv/versions/3.6.2/lib/python3.6/site-packages (from pandas_datareader)\n",
      "Requirement already satisfied: certifi>=2017.4.17 in /Users/davidchiu/.pyenv/versions/3.6.2/lib/python3.6/site-packages (from requests>=2.3.0->pandas_datareader)\n",
      "Requirement already satisfied: urllib3<1.24,>=1.21.1 in /Users/davidchiu/.pyenv/versions/3.6.2/lib/python3.6/site-packages (from requests>=2.3.0->pandas_datareader)\n",
      "Requirement already satisfied: chardet<3.1.0,>=3.0.2 in /Users/davidchiu/.pyenv/versions/3.6.2/lib/python3.6/site-packages (from requests>=2.3.0->pandas_datareader)\n",
      "Requirement already satisfied: idna<2.8,>=2.5 in /Users/davidchiu/.pyenv/versions/3.6.2/lib/python3.6/site-packages (from requests>=2.3.0->pandas_datareader)\n",
      "Requirement already satisfied: six in /Users/davidchiu/.pyenv/versions/3.6.2/lib/python3.6/site-packages (from requests-file->pandas_datareader)\n",
      "Requirement already satisfied: pytz>=2011k in /Users/davidchiu/.pyenv/versions/3.6.2/lib/python3.6/site-packages (from pandas>=0.17.0->pandas_datareader)\n",
      "Requirement already satisfied: numpy>=1.9.0 in /Users/davidchiu/.pyenv/versions/3.6.2/lib/python3.6/site-packages (from pandas>=0.17.0->pandas_datareader)\n",
      "Requirement already satisfied: python-dateutil>=2 in /Users/davidchiu/.pyenv/versions/3.6.2/lib/python3.6/site-packages (from pandas>=0.17.0->pandas_datareader)\n",
      "\u001b[33mYou are using pip version 9.0.1, however version 18.0 is available.\n",
      "You should consider upgrading via the 'pip install --upgrade pip' command.\u001b[0m\n"
     ]
    }
   ],
   "source": [
    "! pip install pandas_datareader"
   ]
  },
  {
   "cell_type": "markdown",
   "metadata": {},
   "source": [
    "## 读取 Google 股价"
   ]
  },
  {
   "cell_type": "code",
   "execution_count": 74,
   "metadata": {},
   "outputs": [],
   "source": [
    "import pandas_datareader\n",
    "googl = pandas_datareader.get_data_yahoo('GOOGL')"
   ]
  },
  {
   "cell_type": "code",
   "execution_count": 75,
   "metadata": {},
   "outputs": [
    {
     "data": {
      "text/html": [
       "<div>\n",
       "<style scoped>\n",
       "    .dataframe tbody tr th:only-of-type {\n",
       "        vertical-align: middle;\n",
       "    }\n",
       "\n",
       "    .dataframe tbody tr th {\n",
       "        vertical-align: top;\n",
       "    }\n",
       "\n",
       "    .dataframe thead th {\n",
       "        text-align: right;\n",
       "    }\n",
       "</style>\n",
       "<table border=\"1\" class=\"dataframe\">\n",
       "  <thead>\n",
       "    <tr style=\"text-align: right;\">\n",
       "      <th></th>\n",
       "      <th>Open</th>\n",
       "      <th>High</th>\n",
       "      <th>Low</th>\n",
       "      <th>Close</th>\n",
       "      <th>Adj Close</th>\n",
       "      <th>Volume</th>\n",
       "    </tr>\n",
       "    <tr>\n",
       "      <th>Date</th>\n",
       "      <th></th>\n",
       "      <th></th>\n",
       "      <th></th>\n",
       "      <th></th>\n",
       "      <th></th>\n",
       "      <th></th>\n",
       "    </tr>\n",
       "  </thead>\n",
       "  <tbody>\n",
       "    <tr>\n",
       "      <th>2009-12-31</th>\n",
       "      <td>312.687683</td>\n",
       "      <td>313.013000</td>\n",
       "      <td>310.300293</td>\n",
       "      <td>310.300293</td>\n",
       "      <td>310.300293</td>\n",
       "      <td>2437100</td>\n",
       "    </tr>\n",
       "    <tr>\n",
       "      <th>2010-01-04</th>\n",
       "      <td>313.788788</td>\n",
       "      <td>315.070068</td>\n",
       "      <td>312.432434</td>\n",
       "      <td>313.688690</td>\n",
       "      <td>313.688690</td>\n",
       "      <td>3908400</td>\n",
       "    </tr>\n",
       "    <tr>\n",
       "      <th>2010-01-05</th>\n",
       "      <td>313.903900</td>\n",
       "      <td>314.234222</td>\n",
       "      <td>311.081085</td>\n",
       "      <td>312.307312</td>\n",
       "      <td>312.307312</td>\n",
       "      <td>6003300</td>\n",
       "    </tr>\n",
       "    <tr>\n",
       "      <th>2010-01-06</th>\n",
       "      <td>313.243256</td>\n",
       "      <td>313.243256</td>\n",
       "      <td>303.483490</td>\n",
       "      <td>304.434448</td>\n",
       "      <td>304.434448</td>\n",
       "      <td>7949400</td>\n",
       "    </tr>\n",
       "    <tr>\n",
       "      <th>2010-01-07</th>\n",
       "      <td>305.005005</td>\n",
       "      <td>305.305298</td>\n",
       "      <td>296.621613</td>\n",
       "      <td>297.347351</td>\n",
       "      <td>297.347351</td>\n",
       "      <td>12815700</td>\n",
       "    </tr>\n",
       "  </tbody>\n",
       "</table>\n",
       "</div>"
      ],
      "text/plain": [
       "                  Open        High         Low       Close   Adj Close  \\\n",
       "Date                                                                     \n",
       "2009-12-31  312.687683  313.013000  310.300293  310.300293  310.300293   \n",
       "2010-01-04  313.788788  315.070068  312.432434  313.688690  313.688690   \n",
       "2010-01-05  313.903900  314.234222  311.081085  312.307312  312.307312   \n",
       "2010-01-06  313.243256  313.243256  303.483490  304.434448  304.434448   \n",
       "2010-01-07  305.005005  305.305298  296.621613  297.347351  297.347351   \n",
       "\n",
       "              Volume  \n",
       "Date                  \n",
       "2009-12-31   2437100  \n",
       "2010-01-04   3908400  \n",
       "2010-01-05   6003300  \n",
       "2010-01-06   7949400  \n",
       "2010-01-07  12815700  "
      ]
     },
     "execution_count": 75,
     "metadata": {},
     "output_type": "execute_result"
    }
   ],
   "source": [
    "googl.head()"
   ]
  },
  {
   "cell_type": "code",
   "execution_count": 76,
   "metadata": {},
   "outputs": [
    {
     "name": "stdout",
     "output_type": "stream",
     "text": [
      "Populating the interactive namespace from numpy and matplotlib\n"
     ]
    },
    {
     "data": {
      "text/plain": [
       "<matplotlib.axes._subplots.AxesSubplot at 0x119797358>"
      ]
     },
     "execution_count": 76,
     "metadata": {},
     "output_type": "execute_result"
    },
    {
     "data": {
      "image/png": "[encoded data removed]",
      "text/plain": [
       "<Figure size 432x288 with 1 Axes>"
      ]
     },
     "metadata": {},
     "output_type": "display_data"
    }
   ],
   "source": [
    "% pylab inline\n",
    "googl['Close'].plot(kind = 'line')"
   ]
  },
  {
   "cell_type": "code",
   "execution_count": 21,
   "metadata": {},
   "outputs": [
    {
     "data": {
      "text/html": [
       "<div>\n",
       "<style scoped>\n",
       "    .dataframe tbody tr th:only-of-type {\n",
       "        vertical-align: middle;\n",
       "    }\n",
       "\n",
       "    .dataframe tbody tr th {\n",
       "        vertical-align: top;\n",
       "    }\n",
       "\n",
       "    .dataframe thead th {\n",
       "        text-align: right;\n",
       "    }\n",
       "</style>\n",
       "<table border=\"1\" class=\"dataframe\">\n",
       "  <thead>\n",
       "    <tr style=\"text-align: right;\">\n",
       "      <th></th>\n",
       "      <th>Open</th>\n",
       "      <th>High</th>\n",
       "      <th>Low</th>\n",
       "      <th>Close</th>\n",
       "      <th>Adj Close</th>\n",
       "      <th>Volume</th>\n",
       "    </tr>\n",
       "    <tr>\n",
       "      <th>Date</th>\n",
       "      <th></th>\n",
       "      <th></th>\n",
       "      <th></th>\n",
       "      <th></th>\n",
       "      <th></th>\n",
       "      <th></th>\n",
       "    </tr>\n",
       "  </thead>\n",
       "  <tbody>\n",
       "    <tr>\n",
       "      <th>2009-12-31</th>\n",
       "      <td>312.687683</td>\n",
       "      <td>313.013000</td>\n",
       "      <td>310.300293</td>\n",
       "      <td>310.300293</td>\n",
       "      <td>310.300293</td>\n",
       "      <td>2437100</td>\n",
       "    </tr>\n",
       "    <tr>\n",
       "      <th>2010-01-04</th>\n",
       "      <td>313.788788</td>\n",
       "      <td>315.070068</td>\n",
       "      <td>312.432434</td>\n",
       "      <td>313.688690</td>\n",
       "      <td>313.688690</td>\n",
       "      <td>3908400</td>\n",
       "    </tr>\n",
       "    <tr>\n",
       "      <th>2010-01-05</th>\n",
       "      <td>313.903900</td>\n",
       "      <td>314.234222</td>\n",
       "      <td>311.081085</td>\n",
       "      <td>312.307312</td>\n",
       "      <td>312.307312</td>\n",
       "      <td>6003300</td>\n",
       "    </tr>\n",
       "    <tr>\n",
       "      <th>2010-01-06</th>\n",
       "      <td>313.243256</td>\n",
       "      <td>313.243256</td>\n",
       "      <td>303.483490</td>\n",
       "      <td>304.434448</td>\n",
       "      <td>304.434448</td>\n",
       "      <td>7949400</td>\n",
       "    </tr>\n",
       "    <tr>\n",
       "      <th>2010-01-07</th>\n",
       "      <td>305.005005</td>\n",
       "      <td>305.305298</td>\n",
       "      <td>296.621613</td>\n",
       "      <td>297.347351</td>\n",
       "      <td>297.347351</td>\n",
       "      <td>12815700</td>\n",
       "    </tr>\n",
       "  </tbody>\n",
       "</table>\n",
       "</div>"
      ],
      "text/plain": [
       "                  Open        High         Low       Close   Adj Close  \\\n",
       "Date                                                                     \n",
       "2009-12-31  312.687683  313.013000  310.300293  310.300293  310.300293   \n",
       "2010-01-04  313.788788  315.070068  312.432434  313.688690  313.688690   \n",
       "2010-01-05  313.903900  314.234222  311.081085  312.307312  312.307312   \n",
       "2010-01-06  313.243256  313.243256  303.483490  304.434448  304.434448   \n",
       "2010-01-07  305.005005  305.305298  296.621613  297.347351  297.347351   \n",
       "\n",
       "              Volume  \n",
       "Date                  \n",
       "2009-12-31   2437100  \n",
       "2010-01-04   3908400  \n",
       "2010-01-05   6003300  \n",
       "2010-01-06   7949400  \n",
       "2010-01-07  12815700  "
      ]
     },
     "execution_count": 21,
     "metadata": {},
     "output_type": "execute_result"
    }
   ],
   "source": [
    "googl.head()"
   ]
  },
  {
   "cell_type": "code",
   "execution_count": 77,
   "metadata": {
    "scrolled": true
   },
   "outputs": [
    {
     "data": {
      "text/plain": [
       "Open         2156\n",
       "High         2156\n",
       "Low          2156\n",
       "Close        2156\n",
       "Adj Close    2156\n",
       "Volume       2156\n",
       "dtype: int64"
      ]
     },
     "execution_count": 77,
     "metadata": {},
     "output_type": "execute_result"
    }
   ],
   "source": [
    "googl.count()"
   ]
  },
  {
   "cell_type": "code",
   "execution_count": 78,
   "metadata": {},
   "outputs": [],
   "source": [
    "googl.to_csv('google_stock_prics.csv')"
   ]
  },
  {
   "cell_type": "markdown",
   "metadata": {},
   "source": [
    "## 读取Google数据"
   ]
  },
  {
   "cell_type": "code",
   "execution_count": 79,
   "metadata": {},
   "outputs": [
    {
     "data": {
      "text/html": [
       "<div>\n",
       "<style scoped>\n",
       "    .dataframe tbody tr th:only-of-type {\n",
       "        vertical-align: middle;\n",
       "    }\n",
       "\n",
       "    .dataframe tbody tr th {\n",
       "        vertical-align: top;\n",
       "    }\n",
       "\n",
       "    .dataframe thead th {\n",
       "        text-align: right;\n",
       "    }\n",
       "</style>\n",
       "<table border=\"1\" class=\"dataframe\">\n",
       "  <thead>\n",
       "    <tr style=\"text-align: right;\">\n",
       "      <th></th>\n",
       "      <th>Date</th>\n",
       "      <th>Open</th>\n",
       "      <th>High</th>\n",
       "      <th>Low</th>\n",
       "      <th>Close</th>\n",
       "      <th>Adj Close</th>\n",
       "      <th>Volume</th>\n",
       "    </tr>\n",
       "  </thead>\n",
       "  <tbody>\n",
       "    <tr>\n",
       "      <th>0</th>\n",
       "      <td>2009-12-31</td>\n",
       "      <td>312.687683</td>\n",
       "      <td>313.013000</td>\n",
       "      <td>310.300293</td>\n",
       "      <td>310.300293</td>\n",
       "      <td>310.300293</td>\n",
       "      <td>2437100</td>\n",
       "    </tr>\n",
       "    <tr>\n",
       "      <th>1</th>\n",
       "      <td>2010-01-04</td>\n",
       "      <td>313.788788</td>\n",
       "      <td>315.070068</td>\n",
       "      <td>312.432434</td>\n",
       "      <td>313.688690</td>\n",
       "      <td>313.688690</td>\n",
       "      <td>3908400</td>\n",
       "    </tr>\n",
       "    <tr>\n",
       "      <th>2</th>\n",
       "      <td>2010-01-05</td>\n",
       "      <td>313.903900</td>\n",
       "      <td>314.234222</td>\n",
       "      <td>311.081085</td>\n",
       "      <td>312.307312</td>\n",
       "      <td>312.307312</td>\n",
       "      <td>6003300</td>\n",
       "    </tr>\n",
       "    <tr>\n",
       "      <th>3</th>\n",
       "      <td>2010-01-06</td>\n",
       "      <td>313.243256</td>\n",
       "      <td>313.243256</td>\n",
       "      <td>303.483490</td>\n",
       "      <td>304.434448</td>\n",
       "      <td>304.434448</td>\n",
       "      <td>7949400</td>\n",
       "    </tr>\n",
       "    <tr>\n",
       "      <th>4</th>\n",
       "      <td>2010-01-07</td>\n",
       "      <td>305.005005</td>\n",
       "      <td>305.305298</td>\n",
       "      <td>296.621613</td>\n",
       "      <td>297.347351</td>\n",
       "      <td>297.347351</td>\n",
       "      <td>12815700</td>\n",
       "    </tr>\n",
       "  </tbody>\n",
       "</table>\n",
       "</div>"
      ],
      "text/plain": [
       "         Date        Open        High         Low       Close   Adj Close  \\\n",
       "0  2009-12-31  312.687683  313.013000  310.300293  310.300293  310.300293   \n",
       "1  2010-01-04  313.788788  315.070068  312.432434  313.688690  313.688690   \n",
       "2  2010-01-05  313.903900  314.234222  311.081085  312.307312  312.307312   \n",
       "3  2010-01-06  313.243256  313.243256  303.483490  304.434448  304.434448   \n",
       "4  2010-01-07  305.005005  305.305298  296.621613  297.347351  297.347351   \n",
       "\n",
       "     Volume  \n",
       "0   2437100  \n",
       "1   3908400  \n",
       "2   6003300  \n",
       "3   7949400  \n",
       "4  12815700  "
      ]
     },
     "execution_count": 79,
     "metadata": {},
     "output_type": "execute_result"
    }
   ],
   "source": [
    "import pandas\n",
    "googl = pandas.read_csv('https://github.com/ywchiu/pydeeplearning/raw/master/data/google_stock_prics.csv')\n",
    "googl.head()"
   ]
  },
  {
   "cell_type": "markdown",
   "metadata": {},
   "source": [
    "## 将数据分为训练与测试数据集"
   ]
  },
  {
   "cell_type": "code",
   "execution_count": 80,
   "metadata": {},
   "outputs": [
    {
     "data": {
      "text/plain": [
       "Date         2156\n",
       "Open         2156\n",
       "High         2156\n",
       "Low          2156\n",
       "Close        2156\n",
       "Adj Close    2156\n",
       "Volume       2156\n",
       "dtype: int64"
      ]
     },
     "execution_count": 80,
     "metadata": {},
     "output_type": "execute_result"
    }
   ],
   "source": [
    "googl.count()"
   ]
  },
  {
   "cell_type": "code",
   "execution_count": 81,
   "metadata": {},
   "outputs": [],
   "source": [
    "training_set = googl.iloc[0:2156 - 300, 4:5].values"
   ]
  },
  {
   "cell_type": "code",
   "execution_count": 82,
   "metadata": {},
   "outputs": [
    {
     "data": {
      "text/plain": [
       "array([[310.300293],\n",
       "       [313.68869 ],\n",
       "       [312.307312]])"
      ]
     },
     "execution_count": 82,
     "metadata": {},
     "output_type": "execute_result"
    }
   ],
   "source": [
    "training_set[0:3]"
   ]
  },
  {
   "cell_type": "code",
   "execution_count": 83,
   "metadata": {},
   "outputs": [
    {
     "data": {
      "text/plain": [
       "(1856, 1)"
      ]
     },
     "execution_count": 83,
     "metadata": {},
     "output_type": "execute_result"
    }
   ],
   "source": [
    "training_set.shape"
   ]
  },
  {
   "cell_type": "code",
   "execution_count": 84,
   "metadata": {},
   "outputs": [],
   "source": [
    "test_set = googl.iloc[2156 - 300:, 4:5].values"
   ]
  },
  {
   "cell_type": "code",
   "execution_count": 85,
   "metadata": {},
   "outputs": [
    {
     "data": {
      "text/plain": [
       "array([[942.169983],\n",
       "       [950.5     ],\n",
       "       [954.650024]])"
      ]
     },
     "execution_count": 85,
     "metadata": {},
     "output_type": "execute_result"
    }
   ],
   "source": [
    "test_set[0:3]"
   ]
  },
  {
   "cell_type": "markdown",
   "metadata": {},
   "source": [
    "## 资料标准化"
   ]
  },
  {
   "cell_type": "code",
   "execution_count": 86,
   "metadata": {},
   "outputs": [],
   "source": [
    "from sklearn.preprocessing import MinMaxScaler\n",
    "sc = MinMaxScaler(feature_range = (0, 1))\n",
    "training_set_scaled = sc.fit_transform(training_set)"
   ]
  },
  {
   "cell_type": "code",
   "execution_count": 87,
   "metadata": {},
   "outputs": [
    {
     "data": {
      "text/plain": [
       "array([[0.12332848],\n",
       "       [0.1278684 ],\n",
       "       [0.12601757],\n",
       "       ...,\n",
       "       [0.98731174],\n",
       "       [0.99277823],\n",
       "       [1.        ]])"
      ]
     },
     "execution_count": 87,
     "metadata": {},
     "output_type": "execute_result"
    }
   ],
   "source": [
    "training_set_scaled"
   ]
  },
  {
   "cell_type": "code",
   "execution_count": 88,
   "metadata": {},
   "outputs": [
    {
     "data": {
      "text/plain": [
       "1856"
      ]
     },
     "execution_count": 88,
     "metadata": {},
     "output_type": "execute_result"
    }
   ],
   "source": [
    "len(training_set_scaled)"
   ]
  },
  {
   "cell_type": "code",
   "execution_count": 89,
   "metadata": {},
   "outputs": [],
   "source": [
    "import numpy as np\n",
    "X_train = []\n",
    "y_train = []\n",
    "for i in range(60, len(training_set_scaled) ):\n",
    "    X_train.append(training_set_scaled[i-60:i, 0])\n",
    "    y_train.append(training_set_scaled[i,0])\n",
    "X_train, y_train = np.array(X_train), np.array(y_train)"
   ]
  },
  {
   "cell_type": "code",
   "execution_count": 91,
   "metadata": {},
   "outputs": [
    {
     "data": {
      "text/plain": [
       "(1796, 60)"
      ]
     },
     "execution_count": 91,
     "metadata": {},
     "output_type": "execute_result"
    }
   ],
   "source": [
    "X_train.shape"
   ]
  },
  {
   "cell_type": "code",
   "execution_count": 92,
   "metadata": {},
   "outputs": [
    {
     "data": {
      "text/plain": [
       "(1796,)"
      ]
     },
     "execution_count": 92,
     "metadata": {},
     "output_type": "execute_result"
    }
   ],
   "source": [
    "y_train.shape"
   ]
  },
  {
   "cell_type": "code",
   "execution_count": 93,
   "metadata": {},
   "outputs": [],
   "source": [
    "X_train = np.reshape(X_train, (X_train.shape[0], X_train.shape[1], 1))"
   ]
  },
  {
   "cell_type": "code",
   "execution_count": 94,
   "metadata": {},
   "outputs": [
    {
     "data": {
      "text/plain": [
       "(1796, 60, 1)"
      ]
     },
     "execution_count": 94,
     "metadata": {},
     "output_type": "execute_result"
    }
   ],
   "source": [
    "X_train.shape"
   ]
  },
  {
   "cell_type": "markdown",
   "metadata": {},
   "source": [
    "## 建构LSTM神经网路"
   ]
  },
  {
   "cell_type": "code",
   "execution_count": 95,
   "metadata": {},
   "outputs": [],
   "source": [
    "from keras.models import Sequential \n",
    "from keras.layers import Dense\n",
    "from keras.layers import LSTM\n",
    "from keras.layers import Dropout\n",
    "\n",
    "regressor = Sequential()\n",
    "\n",
    "regressor.add(LSTM(units = 50, return_sequences = True, input_shape = (X_train.shape[1], 1)))\n",
    "regressor.add(Dropout(0.2))\n",
    "\n",
    "regressor.add(LSTM(units = 50, return_sequences = True)) \n",
    "regressor.add(Dropout(0.2))\n",
    "\n",
    "regressor.add(LSTM(units = 50, return_sequences = True)) \n",
    "regressor.add(Dropout(0.2))\n",
    "\n",
    "regressor.add(LSTM(units = 50))\n",
    "regressor.add(Dropout(0.2))\n",
    "\n",
    "regressor.add(Dense(units = 1))\n",
    "regressor.compile(optimizer = 'adam', loss = 'mean_squared_error')\n"
   ]
  },
  {
   "cell_type": "markdown",
   "metadata": {},
   "source": [
    "## 训练LSTM"
   ]
  },
  {
   "cell_type": "code",
   "execution_count": 96,
   "metadata": {},
   "outputs": [
    {
     "name": "stdout",
     "output_type": "stream",
     "text": [
      "Epoch 1/100\n",
      "1796/1796 [==============================] - 6s 3ms/step - loss: 0.0583\n",
      "Epoch 2/100\n",
      "1796/1796 [==============================] - 4s 2ms/step - loss: 0.0072\n",
      "Epoch 3/100\n",
      "1796/1796 [==============================] - 4s 2ms/step - loss: 0.0040\n",
      "Epoch 4/100\n",
      "1796/1796 [==============================] - 4s 2ms/step - loss: 0.0035\n",
      "Epoch 5/100\n",
      "1796/1796 [==============================] - 4s 2ms/step - loss: 0.0032\n",
      "Epoch 6/100\n",
      "1796/1796 [==============================] - 4s 2ms/step - loss: 0.0029\n",
      "Epoch 7/100\n",
      "1796/1796 [==============================] - 4s 2ms/step - loss: 0.0027\n",
      "Epoch 8/100\n",
      "1796/1796 [==============================] - 4s 2ms/step - loss: 0.0029\n",
      "Epoch 9/100\n",
      "1796/1796 [==============================] - 4s 2ms/step - loss: 0.0026\n",
      "Epoch 10/100\n",
      "1796/1796 [==============================] - 4s 2ms/step - loss: 0.0027\n",
      "Epoch 11/100\n",
      "1796/1796 [==============================] - 4s 2ms/step - loss: 0.0026\n",
      "Epoch 12/100\n",
      "1796/1796 [==============================] - 4s 2ms/step - loss: 0.0028\n",
      "Epoch 13/100\n",
      "1796/1796 [==============================] - 4s 2ms/step - loss: 0.0023\n",
      "Epoch 14/100\n",
      "1796/1796 [==============================] - 4s 2ms/step - loss: 0.0026\n",
      "Epoch 15/100\n",
      "1796/1796 [==============================] - 4s 2ms/step - loss: 0.0026\n",
      "Epoch 16/100\n",
      "1796/1796 [==============================] - 4s 2ms/step - loss: 0.0025\n",
      "Epoch 17/100\n",
      "1796/1796 [==============================] - 4s 2ms/step - loss: 0.0022\n",
      "Epoch 18/100\n",
      "1796/1796 [==============================] - 4s 2ms/step - loss: 0.0025\n",
      "Epoch 19/100\n",
      "1796/1796 [==============================] - 4s 2ms/step - loss: 0.0023\n",
      "Epoch 20/100\n",
      "1796/1796 [==============================] - 4s 2ms/step - loss: 0.0029\n",
      "Epoch 21/100\n",
      "1796/1796 [==============================] - 4s 2ms/step - loss: 0.0027\n",
      "Epoch 22/100\n",
      "1796/1796 [==============================] - 4s 2ms/step - loss: 0.0025\n",
      "Epoch 23/100\n",
      "1796/1796 [==============================] - 4s 2ms/step - loss: 0.0022\n",
      "Epoch 24/100\n",
      "1796/1796 [==============================] - 4s 2ms/step - loss: 0.0023\n",
      "Epoch 25/100\n",
      "1796/1796 [==============================] - 4s 2ms/step - loss: 0.0020\n",
      "Epoch 26/100\n",
      "1796/1796 [==============================] - 4s 2ms/step - loss: 0.0022\n",
      "Epoch 27/100\n",
      "1796/1796 [==============================] - 4s 2ms/step - loss: 0.0021\n",
      "Epoch 28/100\n",
      "1796/1796 [==============================] - 4s 2ms/step - loss: 0.0020\n",
      "Epoch 29/100\n",
      "1796/1796 [==============================] - 4s 2ms/step - loss: 0.0020\n",
      "Epoch 30/100\n",
      "1796/1796 [==============================] - 4s 2ms/step - loss: 0.0023\n",
      "Epoch 31/100\n",
      "1796/1796 [==============================] - 4s 2ms/step - loss: 0.0023\n",
      "Epoch 32/100\n",
      "1796/1796 [==============================] - 4s 2ms/step - loss: 0.0020\n",
      "Epoch 33/100\n",
      "1796/1796 [==============================] - 4s 2ms/step - loss: 0.0021\n",
      "Epoch 34/100\n",
      "1796/1796 [==============================] - 4s 2ms/step - loss: 0.0020\n",
      "Epoch 35/100\n",
      "1796/1796 [==============================] - 4s 2ms/step - loss: 0.0019\n",
      "Epoch 36/100\n",
      "1796/1796 [==============================] - 4s 2ms/step - loss: 0.0020\n",
      "Epoch 37/100\n",
      "1796/1796 [==============================] - 4s 2ms/step - loss: 0.0019\n",
      "Epoch 38/100\n",
      "1796/1796 [==============================] - 4s 2ms/step - loss: 0.0018\n",
      "Epoch 39/100\n",
      "1796/1796 [==============================] - 4s 2ms/step - loss: 0.0019\n",
      "Epoch 40/100\n",
      "1796/1796 [==============================] - 4s 2ms/step - loss: 0.0018\n",
      "Epoch 41/100\n",
      "1796/1796 [==============================] - 4s 2ms/step - loss: 0.0019\n",
      "Epoch 42/100\n",
      "1796/1796 [==============================] - 4s 2ms/step - loss: 0.0019\n",
      "Epoch 43/100\n",
      "1796/1796 [==============================] - 4s 2ms/step - loss: 0.0020\n",
      "Epoch 44/100\n",
      "1796/1796 [==============================] - 4s 2ms/step - loss: 0.0018\n",
      "Epoch 45/100\n",
      "1796/1796 [==============================] - 4s 2ms/step - loss: 0.0020\n",
      "Epoch 46/100\n",
      "1796/1796 [==============================] - 4s 2ms/step - loss: 0.0020\n",
      "Epoch 47/100\n",
      "1796/1796 [==============================] - 4s 2ms/step - loss: 0.0018\n",
      "Epoch 48/100\n",
      "1796/1796 [==============================] - 4s 2ms/step - loss: 0.0020\n",
      "Epoch 49/100\n",
      "1796/1796 [==============================] - 4s 2ms/step - loss: 0.0020\n",
      "Epoch 50/100\n",
      "1796/1796 [==============================] - 4s 2ms/step - loss: 0.0018\n",
      "Epoch 51/100\n",
      "1796/1796 [==============================] - 4s 2ms/step - loss: 0.0017\n",
      "Epoch 52/100\n",
      "1796/1796 [==============================] - 4s 2ms/step - loss: 0.0016\n",
      "Epoch 53/100\n",
      "1796/1796 [==============================] - 4s 2ms/step - loss: 0.0018\n",
      "Epoch 54/100\n",
      "1796/1796 [==============================] - 4s 2ms/step - loss: 0.0018\n",
      "Epoch 55/100\n",
      "1796/1796 [==============================] - 4s 2ms/step - loss: 0.0019\n",
      "Epoch 56/100\n",
      "1796/1796 [==============================] - 4s 2ms/step - loss: 0.0016\n",
      "Epoch 57/100\n",
      "1796/1796 [==============================] - 4s 2ms/step - loss: 0.0020\n",
      "Epoch 58/100\n",
      "1796/1796 [==============================] - 4s 2ms/step - loss: 0.0018\n",
      "Epoch 59/100\n",
      "1796/1796 [==============================] - 4s 2ms/step - loss: 0.0018\n",
      "Epoch 60/100\n",
      "1796/1796 [==============================] - 4s 2ms/step - loss: 0.0016\n",
      "Epoch 61/100\n",
      "1796/1796 [==============================] - 4s 2ms/step - loss: 0.0018\n",
      "Epoch 62/100\n",
      "1796/1796 [==============================] - 4s 2ms/step - loss: 0.0018\n",
      "Epoch 63/100\n",
      "1796/1796 [==============================] - 4s 2ms/step - loss: 0.0016\n",
      "Epoch 64/100\n",
      "1796/1796 [==============================] - 4s 2ms/step - loss: 0.0017\n",
      "Epoch 65/100\n",
      "1796/1796 [==============================] - 4s 2ms/step - loss: 0.0017\n",
      "Epoch 66/100\n",
      "1796/1796 [==============================] - 4s 2ms/step - loss: 0.0017\n",
      "Epoch 67/100\n",
      "1796/1796 [==============================] - 4s 2ms/step - loss: 0.0017\n",
      "Epoch 68/100\n",
      "1796/1796 [==============================] - 4s 2ms/step - loss: 0.0015\n",
      "Epoch 69/100\n",
      "1796/1796 [==============================] - 4s 2ms/step - loss: 0.0017\n",
      "Epoch 70/100\n",
      "1796/1796 [==============================] - 4s 2ms/step - loss: 0.0015\n",
      "Epoch 71/100\n",
      "1796/1796 [==============================] - 4s 2ms/step - loss: 0.0016\n",
      "Epoch 72/100\n",
      "1796/1796 [==============================] - 4s 2ms/step - loss: 0.0017\n",
      "Epoch 73/100\n",
      "1796/1796 [==============================] - 4s 2ms/step - loss: 0.0016\n",
      "Epoch 74/100\n",
      "1796/1796 [==============================] - 4s 2ms/step - loss: 0.0017\n",
      "Epoch 75/100\n",
      "1796/1796 [==============================] - 4s 2ms/step - loss: 0.0016\n",
      "Epoch 76/100\n",
      "1796/1796 [==============================] - 4s 2ms/step - loss: 0.0015\n",
      "Epoch 77/100\n",
      "1796/1796 [==============================] - 4s 2ms/step - loss: 0.0014\n",
      "Epoch 78/100\n",
      "1796/1796 [==============================] - 4s 2ms/step - loss: 0.0013\n",
      "Epoch 79/100\n",
      "1796/1796 [==============================] - 4s 2ms/step - loss: 0.0015\n",
      "Epoch 80/100\n",
      "1796/1796 [==============================] - 4s 2ms/step - loss: 0.0015\n",
      "Epoch 81/100\n",
      "1796/1796 [==============================] - 4s 2ms/step - loss: 0.0016\n",
      "Epoch 82/100\n",
      "1796/1796 [==============================] - 4s 2ms/step - loss: 0.0014\n",
      "Epoch 83/100\n",
      "1796/1796 [==============================] - 4s 2ms/step - loss: 0.0015\n",
      "Epoch 84/100\n",
      "1796/1796 [==============================] - 4s 2ms/step - loss: 0.0014\n",
      "Epoch 85/100\n",
      "1796/1796 [==============================] - 4s 2ms/step - loss: 0.0013\n",
      "Epoch 86/100\n",
      "1796/1796 [==============================] - 4s 2ms/step - loss: 0.0014\n",
      "Epoch 87/100\n",
      "1796/1796 [==============================] - 4s 2ms/step - loss: 0.0014\n",
      "Epoch 88/100\n",
      "1796/1796 [==============================] - 4s 2ms/step - loss: 0.0015\n",
      "Epoch 89/100\n",
      "1796/1796 [==============================] - 4s 2ms/step - loss: 0.0014\n",
      "Epoch 90/100\n",
      "1796/1796 [==============================] - 4s 2ms/step - loss: 0.0013\n",
      "Epoch 91/100\n",
      "1796/1796 [==============================] - 4s 2ms/step - loss: 0.0014\n",
      "Epoch 92/100\n",
      "1796/1796 [==============================] - 4s 2ms/step - loss: 0.0013\n",
      "Epoch 93/100\n",
      "1796/1796 [==============================] - 4s 2ms/step - loss: 0.0013\n",
      "Epoch 94/100\n",
      "1796/1796 [==============================] - 4s 2ms/step - loss: 0.0012\n",
      "Epoch 95/100\n",
      "1796/1796 [==============================] - 4s 2ms/step - loss: 0.0012\n",
      "Epoch 96/100\n",
      "1796/1796 [==============================] - 4s 2ms/step - loss: 0.0013\n",
      "Epoch 97/100\n"
     ]
    },
    {
     "name": "stdout",
     "output_type": "stream",
     "text": [
      "1796/1796 [==============================] - 4s 2ms/step - loss: 0.0014\n",
      "Epoch 98/100\n",
      "1796/1796 [==============================] - 4s 2ms/step - loss: 0.0014\n",
      "Epoch 99/100\n",
      "1796/1796 [==============================] - 4s 2ms/step - loss: 0.0012\n",
      "Epoch 100/100\n",
      "1796/1796 [==============================] - 4s 2ms/step - loss: 0.0013\n"
     ]
    },
    {
     "data": {
      "text/plain": [
       "<keras.callbacks.History at 0x1198296d8>"
      ]
     },
     "execution_count": 96,
     "metadata": {},
     "output_type": "execute_result"
    }
   ],
   "source": [
    "regressor.fit(X_train, y_train, epochs = 100, batch_size = 100)"
   ]
  },
  {
   "cell_type": "markdown",
   "metadata": {},
   "source": [
    "## 评估模型在测试数据集的表现"
   ]
  },
  {
   "cell_type": "code",
   "execution_count": 104,
   "metadata": {},
   "outputs": [
    {
     "data": {
      "text/plain": [
       "(300, 1)"
      ]
     },
     "execution_count": 104,
     "metadata": {},
     "output_type": "execute_result"
    }
   ],
   "source": [
    "test_set.shape"
   ]
  },
  {
   "cell_type": "code",
   "execution_count": 105,
   "metadata": {},
   "outputs": [],
   "source": [
    "test_set = sc.transform(test_set)"
   ]
  },
  {
   "cell_type": "code",
   "execution_count": 106,
   "metadata": {},
   "outputs": [
    {
     "data": {
      "text/plain": [
       "array([[0.96993395],\n",
       "       [0.98109485],\n",
       "       [0.98665523]])"
      ]
     },
     "execution_count": 106,
     "metadata": {},
     "output_type": "execute_result"
    }
   ],
   "source": [
    "test_set[0:3]"
   ]
  },
  {
   "cell_type": "code",
   "execution_count": 107,
   "metadata": {},
   "outputs": [],
   "source": [
    "X_test = []\n",
    "for i in range(60, len(test_set)):\n",
    "    X_test.append(test_set[i-60:i, 0])"
   ]
  },
  {
   "cell_type": "code",
   "execution_count": 108,
   "metadata": {},
   "outputs": [],
   "source": [
    "X_test = np.array(X_test)"
   ]
  },
  {
   "cell_type": "code",
   "execution_count": 109,
   "metadata": {},
   "outputs": [],
   "source": [
    "X_test = np.reshape(X_test, (X_test.shape[0], X_test.shape[1], 1))"
   ]
  },
  {
   "cell_type": "code",
   "execution_count": 110,
   "metadata": {},
   "outputs": [
    {
     "data": {
      "text/plain": [
       "(240, 60, 1)"
      ]
     },
     "execution_count": 110,
     "metadata": {},
     "output_type": "execute_result"
    }
   ],
   "source": [
    "X_test.shape"
   ]
  },
  {
   "cell_type": "code",
   "execution_count": 111,
   "metadata": {},
   "outputs": [],
   "source": [
    "predicted_stock_price = regressor.predict(X_test)"
   ]
  },
  {
   "cell_type": "code",
   "execution_count": 112,
   "metadata": {},
   "outputs": [
    {
     "data": {
      "text/plain": [
       "array([[0.9559624 ],\n",
       "       [0.95301104],\n",
       "       [0.95049214]], dtype=float32)"
      ]
     },
     "execution_count": 112,
     "metadata": {},
     "output_type": "execute_result"
    }
   ],
   "source": [
    "predicted_stock_price[0:3]"
   ]
  },
  {
   "cell_type": "code",
   "execution_count": 113,
   "metadata": {},
   "outputs": [],
   "source": [
    "predicted_stock_price = sc.inverse_transform(predicted_stock_price)"
   ]
  },
  {
   "cell_type": "code",
   "execution_count": 114,
   "metadata": {},
   "outputs": [
    {
     "data": {
      "text/plain": [
       "array([[931.7422],\n",
       "       [929.5394],\n",
       "       [927.6594]], dtype=float32)"
      ]
     },
     "execution_count": 114,
     "metadata": {},
     "output_type": "execute_result"
    }
   ],
   "source": [
    "predicted_stock_price[0:3]"
   ]
  },
  {
   "cell_type": "code",
   "execution_count": 120,
   "metadata": {},
   "outputs": [
    {
     "data": {
      "text/plain": [
       "array([[0.96993395],\n",
       "       [0.98109485],\n",
       "       [0.98665523]])"
      ]
     },
     "execution_count": 120,
     "metadata": {},
     "output_type": "execute_result"
    }
   ],
   "source": [
    "test_set[0:3]"
   ]
  },
  {
   "cell_type": "code",
   "execution_count": 121,
   "metadata": {},
   "outputs": [
    {
     "data": {
      "text/plain": [
       "300"
      ]
     },
     "execution_count": 121,
     "metadata": {},
     "output_type": "execute_result"
    }
   ],
   "source": [
    "len(test_set)"
   ]
  },
  {
   "cell_type": "code",
   "execution_count": 122,
   "metadata": {},
   "outputs": [],
   "source": [
    "real_stock_price = sc.inverse_transform(test_set[60:])"
   ]
  },
  {
   "cell_type": "code",
   "execution_count": 123,
   "metadata": {},
   "outputs": [
    {
     "data": {
      "text/plain": [
       "240"
      ]
     },
     "execution_count": 123,
     "metadata": {},
     "output_type": "execute_result"
    }
   ],
   "source": [
    "len(real_stock_price)"
   ]
  },
  {
   "cell_type": "code",
   "execution_count": 124,
   "metadata": {},
   "outputs": [
    {
     "data": {
      "image/png": "[encoded data removed]",
      "text/plain": [
       "<Figure size 432x288 with 1 Axes>"
      ]
     },
     "metadata": {},
     "output_type": "display_data"
    }
   ],
   "source": [
    "import matplotlib.pyplot as plt\n",
    "plt.plot(real_stock_price     , color = 'red' , label = 'Google Stock Price')\n",
    "plt.plot(predicted_stock_price, color = 'blue', label = 'Predicted Google Stock Price')\n",
    "plt.title('Google Stock Price Prediction')\n",
    "plt.xlabel('Time')\n",
    "plt.ylabel('Google Stock Price')\n",
    "plt.legend()\n",
    "plt.show()"
   ]
  },
  {
   "cell_type": "markdown",
   "metadata": {},
   "source": [
    "## 评估模型在训练数据集的表现"
   ]
  },
  {
   "cell_type": "code",
   "execution_count": 128,
   "metadata": {},
   "outputs": [],
   "source": [
    "predicted_stock_price2 = regressor.predict(X_train)\n",
    "predicted_stock_price2 = sc.inverse_transform(predicted_stock_price2)\n",
    "real_stock_price2      = training_set[60:]"
   ]
  },
  {
   "cell_type": "code",
   "execution_count": 129,
   "metadata": {},
   "outputs": [
    {
     "data": {
      "text/plain": [
       "1796"
      ]
     },
     "execution_count": 129,
     "metadata": {},
     "output_type": "execute_result"
    }
   ],
   "source": [
    "len(predicted_stock_price2)"
   ]
  },
  {
   "cell_type": "code",
   "execution_count": 130,
   "metadata": {},
   "outputs": [
    {
     "data": {
      "text/plain": [
       "1796"
      ]
     },
     "execution_count": 130,
     "metadata": {},
     "output_type": "execute_result"
    }
   ],
   "source": [
    "len(real_stock_price2)"
   ]
  },
  {
   "cell_type": "code",
   "execution_count": 131,
   "metadata": {},
   "outputs": [
    {
     "data": {
      "image/png": "[encoded data removed]",
      "text/plain": [
       "<Figure size 432x288 with 1 Axes>"
      ]
     },
     "metadata": {},
     "output_type": "display_data"
    }
   ],
   "source": [
    "import matplotlib.pyplot as plt\n",
    "plt.plot(real_stock_price2     , color = 'red' , label = 'Real Google Stock Price')\n",
    "plt.plot(predicted_stock_price2, color = 'blue', label = 'Predicted Google Stock Price')\n",
    "plt.title('Google Stock Price Prediction')\n",
    "plt.xlabel('Time')\n",
    "plt.ylabel('Google Stock Price')\n",
    "plt.legend()\n",
    "plt.show()"
   ]
  }
 ],
 "metadata": {
  "kernelspec": {
   "display_name": "Python 3",
   "language": "python",
   "name": "python3"
  },
  "language_info": {
   "codemirror_mode": {
    "name": "ipython",
    "version": 3
   },
   "file_extension": ".py",
   "mimetype": "text/x-python",
   "name": "python",
   "nbconvert_exporter": "python",
   "pygments_lexer": "ipython3",
   "version": "3.6.2"
  }
 },
 "nbformat": 4,
 "nbformat_minor": 2
}
