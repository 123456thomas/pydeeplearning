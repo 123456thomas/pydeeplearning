{
 "cells": [
  {
   "cell_type": "markdown",
   "metadata": {},
   "source": [
    "## 抓取 Marvel 电影清单\n",
    "- https://www.imdb.com/list/ls071217506/"
   ]
  },
  {
   "cell_type": "code",
   "execution_count": 1,
   "metadata": {},
   "outputs": [],
   "source": [
    "import requests\n",
    "from bs4 import BeautifulSoup\n",
    "res = requests.get('https://www.imdb.com/list/ls071217506/')\n",
    "soup = BeautifulSoup(res.text, 'lxml')\n",
    "movies = []\n",
    "for movie in soup.select('.lister-item-header a'):\n",
    "    movies.append(movie.get('href').split('/')[2])"
   ]
  },
  {
   "cell_type": "code",
   "execution_count": 2,
   "metadata": {},
   "outputs": [
    {
     "data": {
      "text/plain": [
       "['tt0371746', 'tt0800080', 'tt1228705']"
      ]
     },
     "execution_count": 2,
     "metadata": {},
     "output_type": "execute_result"
    }
   ],
   "source": [
    "movies[0:3]"
   ]
  },
  {
   "cell_type": "markdown",
   "metadata": {},
   "source": [
    "## 抓取IMDB评论数据"
   ]
  },
  {
   "cell_type": "code",
   "execution_count": 3,
   "metadata": {},
   "outputs": [],
   "source": [
    "def getMovieReviews(movieid):\n",
    "    reviews = []\n",
    "    res = requests.get('https://www.imdb.com/title/tt0371746/reviews?spoiler=hide&sort=helpfulnessScore&dir=desc&ratingFilter=10')\n",
    "    soup = BeautifulSoup(res.text, 'lxml')\n",
    "    for review in soup.select('.imdb-user-review'):\n",
    "        star = soup.select_one('.rating-other-user-rating span')\n",
    "        if star and star.text == '10':\n",
    "            title  = review.select_one('.title').text\n",
    "            author = review.select_one('.display-name-link').text\n",
    "            dt     = review.select_one('.review-date').text\n",
    "            content= review.select_one('.content .text').text\n",
    "            reviews.append({'title':title, 'author':author, 'dt':dt, 'content':content})\n",
    "    return reviews"
   ]
  },
  {
   "cell_type": "code",
   "execution_count": 4,
   "metadata": {},
   "outputs": [
    {
     "name": "stdout",
     "output_type": "stream",
     "text": [
      "tt0371746\n",
      "tt0800080\n",
      "tt1228705\n",
      "tt0800369\n",
      "tt0458339\n",
      "tt0848228\n",
      "tt1300854\n",
      "tt1981115\n",
      "tt1843866\n",
      "tt2015381\n",
      "tt2395427\n",
      "tt0478970\n",
      "tt3498820\n",
      "tt1211837\n",
      "tt3896198\n",
      "tt3501632\n",
      "tt1825683\n",
      "tt4154756\n",
      "tt4154664\n",
      "tt4154858\n",
      "tt4154796\n",
      "tt0482631\n",
      "tt2364582\n",
      "tt3475734\n",
      "tt3322312\n",
      "tt2357547\n",
      "tt3322314\n",
      "tt1452299\n",
      "tt2071614\n",
      "tt2011109\n",
      "tt2247732\n",
      "tt3067038\n",
      "tt3438640\n",
      "tt3591568\n",
      "tt4128102\n"
     ]
    }
   ],
   "source": [
    "totalreviews = []\n",
    "for movieid in movies:\n",
    "    print(movieid)\n",
    "    reviews = getMovieReviews(movieid)\n",
    "    totalreviews.extend(reviews)"
   ]
  },
  {
   "cell_type": "markdown",
   "metadata": {},
   "source": [
    "## 整理评论数据"
   ]
  },
  {
   "cell_type": "code",
   "execution_count": 5,
   "metadata": {},
   "outputs": [],
   "source": [
    "import pandas\n",
    "df = pandas.DataFrame(totalreviews)"
   ]
  },
  {
   "cell_type": "code",
   "execution_count": 6,
   "metadata": {},
   "outputs": [
    {
     "data": {
      "text/plain": [
       "author     875\n",
       "content    875\n",
       "dt         875\n",
       "title      875\n",
       "dtype: int64"
      ]
     },
     "execution_count": 6,
     "metadata": {},
     "output_type": "execute_result"
    }
   ],
   "source": [
    "df.count()"
   ]
  },
  {
   "cell_type": "code",
   "execution_count": 7,
   "metadata": {},
   "outputs": [
    {
     "data": {
      "text/html": [
       "<div>\n",
       "<style scoped>\n",
       "    .dataframe tbody tr th:only-of-type {\n",
       "        vertical-align: middle;\n",
       "    }\n",
       "\n",
       "    .dataframe tbody tr th {\n",
       "        vertical-align: top;\n",
       "    }\n",
       "\n",
       "    .dataframe thead th {\n",
       "        text-align: right;\n",
       "    }\n",
       "</style>\n",
       "<table border=\"1\" class=\"dataframe\">\n",
       "  <thead>\n",
       "    <tr style=\"text-align: right;\">\n",
       "      <th></th>\n",
       "      <th>author</th>\n",
       "      <th>content</th>\n",
       "      <th>dt</th>\n",
       "      <th>title</th>\n",
       "    </tr>\n",
       "  </thead>\n",
       "  <tbody>\n",
       "    <tr>\n",
       "      <th>0</th>\n",
       "      <td>sacflyzone</td>\n",
       "      <td>Rest assured, Iron Man is an absolutely amazin...</td>\n",
       "      <td>23 April 2008</td>\n",
       "      <td>Delivers Intelligence &amp; Great Acting with its...</td>\n",
       "    </tr>\n",
       "    <tr>\n",
       "      <th>1</th>\n",
       "      <td>z-mbe</td>\n",
       "      <td>As an avid reader of the Iron Man comics, I wa...</td>\n",
       "      <td>16 April 2008</td>\n",
       "      <td>Film That Lives Up To Its Hype And The Expect...</td>\n",
       "    </tr>\n",
       "    <tr>\n",
       "      <th>2</th>\n",
       "      <td>ffiisshh</td>\n",
       "      <td>WOW WOW WOW.This is the movie I have been wait...</td>\n",
       "      <td>21 April 2008</td>\n",
       "      <td>Wow, very impressive !!!!\\n</td>\n",
       "    </tr>\n",
       "    <tr>\n",
       "      <th>3</th>\n",
       "      <td>DICK STEEL</td>\n",
       "      <td>With a little tinge of shame and regret, my ra...</td>\n",
       "      <td>30 April 2008</td>\n",
       "      <td>A Nutshell Review: Iron Man\\n</td>\n",
       "    </tr>\n",
       "    <tr>\n",
       "      <th>4</th>\n",
       "      <td>Chrysanthepop</td>\n",
       "      <td>Until May 2008, the few releases this year tha...</td>\n",
       "      <td>9 May 2008</td>\n",
       "      <td>Move Over Superheroes, Iron Man Is Here\\n</td>\n",
       "    </tr>\n",
       "  </tbody>\n",
       "</table>\n",
       "</div>"
      ],
      "text/plain": [
       "          author                                            content  \\\n",
       "0     sacflyzone  Rest assured, Iron Man is an absolutely amazin...   \n",
       "1          z-mbe  As an avid reader of the Iron Man comics, I wa...   \n",
       "2       ffiisshh  WOW WOW WOW.This is the movie I have been wait...   \n",
       "3     DICK STEEL  With a little tinge of shame and regret, my ra...   \n",
       "4  Chrysanthepop  Until May 2008, the few releases this year tha...   \n",
       "\n",
       "              dt                                              title  \n",
       "0  23 April 2008   Delivers Intelligence & Great Acting with its...  \n",
       "1  16 April 2008   Film That Lives Up To Its Hype And The Expect...  \n",
       "2  21 April 2008                        Wow, very impressive !!!!\\n  \n",
       "3  30 April 2008                      A Nutshell Review: Iron Man\\n  \n",
       "4     9 May 2008          Move Over Superheroes, Iron Man Is Here\\n  "
      ]
     },
     "execution_count": 7,
     "metadata": {},
     "output_type": "execute_result"
    }
   ],
   "source": [
    "df.head()"
   ]
  },
  {
   "cell_type": "code",
   "execution_count": 8,
   "metadata": {},
   "outputs": [
    {
     "data": {
      "text/plain": [
       "'Rest assured, Iron Man is an absolutely amazing movie. I won\\'t dare spoil any of this remarkable movie for you but I do recommend it as highly as I possibly can. Marvel needed to get in to the solo movie making business long ago. Instead of leasing out their characters to other studios, they\\'re making movies themselves. Most everyone knows Iron Man is their first effort and what a great lead off film! This movie helps take the comic book genre to the highest level. Just like they did in the books, they reinvent standard epic adventure by \"Marvelizing\" characters and making them more believable. The Spider-Man and the X-Men movies did this to a degree but only as far as their respective studios wished to stay true to the source material. Anything added or amended was for the benefit of the live action adaptation. Director Sam Raimi pulled this off by talking to the summer crowd, not down to them with the Spider-Man series. Jon Favreau has done the same thing here but I think he\\'s done it even better. Raimi intentionally threw in a little cheese. Favreau adds nice bits of humor but not too much. He also grounds the action and the suit of armor in firm reality. I\\'ve said it before but it\\'s brave to reach for the highest common denominator with a big budget film and Favreau delivers a movie with as much feeling as it has action and intensity. Needless to say, Robert Downey Jr. and company deliver the goods. It\\'s a movie that has a wonderful balance that delivers intelligence with its fun.The amazing yet realistic action is paced by the plot and characters that keep you interested from start to finish. What absolutely blew me away were the phenomenal special effects. I know they built a practical, working armor. What I loved is the use of CGI was used to augment the real life armor and not create something from scratch. Most all CGI constructs feel fake somehow but the stuff in Iron Man didn\\'t seem fake even for an instant. As great as everything looked, what really drives the movie is the emotional resonance and down to earth nature of the plot. Sure the concept is wild but it\\'s all presented so that you really believe it could happen. I doubt anyone will find fault with this movie unless they went in trying to dislike it.This is, without a doubt going to be one of my top 10 movies of 2008, quite possibly the number one film.'"
      ]
     },
     "execution_count": 8,
     "metadata": {},
     "output_type": "execute_result"
    }
   ],
   "source": [
    "df['content'][0]"
   ]
  },
  {
   "cell_type": "markdown",
   "metadata": {},
   "source": [
    "## 储存评论数据"
   ]
  },
  {
   "cell_type": "code",
   "execution_count": 9,
   "metadata": {},
   "outputs": [],
   "source": [
    "df.to_csv('movie_review.csv', encoding='utf-8-sig')"
   ]
  },
  {
   "cell_type": "code",
   "execution_count": null,
   "metadata": {},
   "outputs": [],
   "source": []
  }
 ],
 "metadata": {
  "kernelspec": {
   "display_name": "Python 3",
   "language": "python",
   "name": "python3"
  },
  "language_info": {
   "codemirror_mode": {
    "name": "ipython",
    "version": 3
   },
   "file_extension": ".py",
   "mimetype": "text/x-python",
   "name": "python",
   "nbconvert_exporter": "python",
   "pygments_lexer": "ipython3",
   "version": "3.6.2"
  }
 },
 "nbformat": 4,
 "nbformat_minor": 2
}
